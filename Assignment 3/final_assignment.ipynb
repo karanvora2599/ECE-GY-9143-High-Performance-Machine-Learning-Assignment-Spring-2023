{
 "cells": [
  {
   "cell_type": "markdown",
   "metadata": {},
   "source": [
    "## Problem 1\n",
    "### Question 1\n",
    "<span style=\"color: blue;\">Explain the terms co-adaptation and internal covariance-shift. Use examples if needed.</span>"
   ]
  },
  {
   "cell_type": "markdown",
   "metadata": {},
   "source": [
    "#### Co-adaptation\n",
    "<br />\n",
    "<div style=\"width: 700px; word-wrap: break-word;\"><p style=\"text-align:justify\">Co-adaptation refers to the phenomenon where multiple neurons in a neural network learn to capture redundant features from the input data, thereby becoming overly reliant on each other's behavior. As a result, these neurons lose their individual capacity to contribute uniquely to the learning process, making the network less efficient and more susceptible to overfitting. Co-adaptation often occurs when some neurons dominate the learning process by having large weights or gradients, causing other neurons to adapt their behavior to compensate for the dominant neurons. This interdependence between neurons limits the network's capacity to generalize well on unseen data.</p>\n",
    "<p style=\"text-align:justify\">One technique to mitigate co-adaptation is dropout, a regularization method that randomly \"drops\" (sets to zero) a proportion of neurons during training. By temporarily removing some neurons, dropout forces the remaining neurons to learn more robust and independent representations, reducing their reliance on each other and improving the network's generalization performance.</p></div>\n",
    "\n",
    "#### Internal Covariance Shift\n",
    "<br />\n",
    "<div style=\"width: 700px; word-wrap: break-word;\"><p style=\"text-align:justify\">Internal covariance shift refers to the change in the distribution of activations in the hidden layers of a deep neural network during training. As the weights of the network are updated through backpropagation, the input distribution of each hidden layer shifts, causing the subsequent layers to adapt to the new distribution continuously. This phenomenon can slow down the training process and make it difficult for the network to converge.</p>\n",
    "<p style=\"text-align:justify\">Batch normalization is a technique proposed to alleviate the internal covariance shift. It normalizes the input distribution for each hidden layer by standardizing the activations (i.e., making their mean 0 and standard deviation 1) and applying learnable scaling and shifting parameters. By normalizing the activations, batch normalization reduces the internal covariance shift, allowing for higher learning rates and faster convergence. Additionally, batch normalization can have a regularizing effect, reducing the risk of overfitting.</p></div>"
   ]
  },
  {
   "cell_type": "markdown",
   "metadata": {},
   "source": [
    "## Problem 1\n",
    "### Question 2\n",
    "<span style=\"color: blue;\">Train LeNet-5 with standard normalization of input and batch normalization for hidden layers.</span>"
   ]
  },
  {
   "cell_type": "markdown",
   "metadata": {},
   "source": [
    "> Install torch on the compute node, in case it is not present"
   ]
  },
  {
   "cell_type": "code",
   "execution_count": 1,
   "metadata": {},
   "outputs": [
    {
     "name": "stdout",
     "output_type": "stream",
     "text": [
      "Defaulting to user installation because normal site-packages is not writeable\n",
      "Requirement already satisfied: torch in ./.local/lib/python3.8/site-packages (2.0.0)\n",
      "Requirement already satisfied: sympy in ./.local/lib/python3.8/site-packages (from torch) (1.11.1)\n",
      "Requirement already satisfied: nvidia-cufft-cu11==10.9.0.58; platform_system == \"Linux\" and platform_machine == \"x86_64\" in ./.local/lib/python3.8/site-packages (from torch) (10.9.0.58)\n",
      "Requirement already satisfied: networkx in ./.local/lib/python3.8/site-packages (from torch) (3.0)\n",
      "Requirement already satisfied: nvidia-curand-cu11==10.2.10.91; platform_system == \"Linux\" and platform_machine == \"x86_64\" in ./.local/lib/python3.8/site-packages (from torch) (10.2.10.91)\n",
      "Requirement already satisfied: nvidia-nccl-cu11==2.14.3; platform_system == \"Linux\" and platform_machine == \"x86_64\" in ./.local/lib/python3.8/site-packages (from torch) (2.14.3)\n",
      "Requirement already satisfied: filelock in /share/apps/python/3.8.6/intel/lib/python3.8/site-packages (from torch) (3.0.12)\n",
      "Requirement already satisfied: nvidia-cublas-cu11==11.10.3.66; platform_system == \"Linux\" and platform_machine == \"x86_64\" in ./.local/lib/python3.8/site-packages (from torch) (11.10.3.66)\n",
      "Requirement already satisfied: nvidia-cusolver-cu11==11.4.0.1; platform_system == \"Linux\" and platform_machine == \"x86_64\" in ./.local/lib/python3.8/site-packages (from torch) (11.4.0.1)\n",
      "Requirement already satisfied: nvidia-nvtx-cu11==11.7.91; platform_system == \"Linux\" and platform_machine == \"x86_64\" in ./.local/lib/python3.8/site-packages (from torch) (11.7.91)\n",
      "Requirement already satisfied: jinja2 in /share/apps/python/3.8.6/intel/lib/python3.8/site-packages (from torch) (2.11.2)\n",
      "Requirement already satisfied: nvidia-cuda-cupti-cu11==11.7.101; platform_system == \"Linux\" and platform_machine == \"x86_64\" in ./.local/lib/python3.8/site-packages (from torch) (11.7.101)\n",
      "Requirement already satisfied: triton==2.0.0; platform_system == \"Linux\" and platform_machine == \"x86_64\" in ./.local/lib/python3.8/site-packages (from torch) (2.0.0)\n",
      "Requirement already satisfied: nvidia-cuda-runtime-cu11==11.7.99; platform_system == \"Linux\" and platform_machine == \"x86_64\" in ./.local/lib/python3.8/site-packages (from torch) (11.7.99)\n",
      "Requirement already satisfied: typing-extensions in ./.local/lib/python3.8/site-packages (from torch) (4.5.0)\n",
      "Requirement already satisfied: nvidia-cusparse-cu11==11.7.4.91; platform_system == \"Linux\" and platform_machine == \"x86_64\" in ./.local/lib/python3.8/site-packages (from torch) (11.7.4.91)\n",
      "Requirement already satisfied: nvidia-cuda-nvrtc-cu11==11.7.99; platform_system == \"Linux\" and platform_machine == \"x86_64\" in ./.local/lib/python3.8/site-packages (from torch) (11.7.99)\n",
      "Requirement already satisfied: nvidia-cudnn-cu11==8.5.0.96; platform_system == \"Linux\" and platform_machine == \"x86_64\" in ./.local/lib/python3.8/site-packages (from torch) (8.5.0.96)\n",
      "Requirement already satisfied: mpmath>=0.19 in ./.local/lib/python3.8/site-packages (from sympy->torch) (1.3.0)\n",
      "Requirement already satisfied: wheel in /share/apps/python/3.8.6/intel/lib/python3.8/site-packages (from nvidia-curand-cu11==10.2.10.91; platform_system == \"Linux\" and platform_machine == \"x86_64\"->torch) (0.35.1)\n",
      "Requirement already satisfied: setuptools in /share/apps/python/3.8.6/intel/lib/python3.8/site-packages (from nvidia-curand-cu11==10.2.10.91; platform_system == \"Linux\" and platform_machine == \"x86_64\"->torch) (49.2.1)\n",
      "Requirement already satisfied: MarkupSafe>=0.23 in /share/apps/python/3.8.6/intel/lib/python3.8/site-packages (from jinja2->torch) (1.1.1)\n",
      "Requirement already satisfied: lit in ./.local/lib/python3.8/site-packages (from triton==2.0.0; platform_system == \"Linux\" and platform_machine == \"x86_64\"->torch) (16.0.0)\n",
      "Requirement already satisfied: cmake in ./.local/lib/python3.8/site-packages (from triton==2.0.0; platform_system == \"Linux\" and platform_machine == \"x86_64\"->torch) (3.26.1)\n",
      "\u001b[33mWARNING: You are using pip version 20.2.3; however, version 23.0.1 is available.\n",
      "You should consider upgrading via the '/share/apps/python/3.8.6/intel/bin/python -m pip install --upgrade pip' command.\u001b[0m\n"
     ]
    }
   ],
   "source": [
    "!pip install torch"
   ]
  },
  {
   "cell_type": "markdown",
   "metadata": {},
   "source": [
    "> Install other packages "
   ]
  },
  {
   "cell_type": "code",
   "execution_count": 2,
   "metadata": {},
   "outputs": [
    {
     "name": "stdout",
     "output_type": "stream",
     "text": [
      "Defaulting to user installation because normal site-packages is not writeable\n",
      "Requirement already satisfied: tqdm in ./.local/lib/python3.8/site-packages (4.65.0)\n",
      "Requirement already satisfied: seaborn in ./.local/lib/python3.8/site-packages (0.12.2)\n",
      "Requirement already satisfied: torchvision in ./.local/lib/python3.8/site-packages (0.15.1)\n",
      "Requirement already satisfied: matplotlib!=3.6.1,>=3.1 in /share/apps/python/3.8.6/intel/lib/python3.8/site-packages (from seaborn) (3.3.2)\n",
      "Requirement already satisfied: numpy!=1.24.0,>=1.17 in /share/apps/python/3.8.6/intel/lib/python3.8/site-packages/numpy-1.19.2-py3.8-linux-x86_64.egg (from seaborn) (1.19.2)\n",
      "Requirement already satisfied: pandas>=0.25 in /share/apps/python/3.8.6/intel/lib/python3.8/site-packages (from seaborn) (1.1.3)\n",
      "Requirement already satisfied: pillow!=8.3.*,>=5.3.0 in /share/apps/python/3.8.6/intel/lib/python3.8/site-packages (from torchvision) (8.0.1)\n",
      "Requirement already satisfied: torch==2.0.0 in ./.local/lib/python3.8/site-packages (from torchvision) (2.0.0)\n",
      "Requirement already satisfied: requests in /share/apps/python/3.8.6/intel/lib/python3.8/site-packages (from torchvision) (2.24.0)\n",
      "Requirement already satisfied: certifi>=2020.06.20 in /share/apps/python/3.8.6/intel/lib/python3.8/site-packages (from matplotlib!=3.6.1,>=3.1->seaborn) (2020.6.20)\n",
      "Requirement already satisfied: kiwisolver>=1.0.1 in /share/apps/python/3.8.6/intel/lib/python3.8/site-packages (from matplotlib!=3.6.1,>=3.1->seaborn) (1.2.0)\n",
      "Requirement already satisfied: python-dateutil>=2.1 in /share/apps/python/3.8.6/intel/lib/python3.8/site-packages (from matplotlib!=3.6.1,>=3.1->seaborn) (2.8.1)\n",
      "Requirement already satisfied: pyparsing!=2.0.4,!=2.1.2,!=2.1.6,>=2.0.3 in /share/apps/python/3.8.6/intel/lib/python3.8/site-packages (from matplotlib!=3.6.1,>=3.1->seaborn) (2.4.7)\n",
      "Requirement already satisfied: cycler>=0.10 in /share/apps/python/3.8.6/intel/lib/python3.8/site-packages (from matplotlib!=3.6.1,>=3.1->seaborn) (0.10.0)\n",
      "Requirement already satisfied: pytz>=2017.2 in /share/apps/python/3.8.6/intel/lib/python3.8/site-packages (from pandas>=0.25->seaborn) (2020.1)\n",
      "Requirement already satisfied: nvidia-cufft-cu11==10.9.0.58; platform_system == \"Linux\" and platform_machine == \"x86_64\" in ./.local/lib/python3.8/site-packages (from torch==2.0.0->torchvision) (10.9.0.58)\n",
      "Requirement already satisfied: nvidia-cublas-cu11==11.10.3.66; platform_system == \"Linux\" and platform_machine == \"x86_64\" in ./.local/lib/python3.8/site-packages (from torch==2.0.0->torchvision) (11.10.3.66)\n",
      "Requirement already satisfied: nvidia-cusolver-cu11==11.4.0.1; platform_system == \"Linux\" and platform_machine == \"x86_64\" in ./.local/lib/python3.8/site-packages (from torch==2.0.0->torchvision) (11.4.0.1)\n",
      "Requirement already satisfied: typing-extensions in ./.local/lib/python3.8/site-packages (from torch==2.0.0->torchvision) (4.5.0)\n",
      "Requirement already satisfied: nvidia-cuda-nvrtc-cu11==11.7.99; platform_system == \"Linux\" and platform_machine == \"x86_64\" in ./.local/lib/python3.8/site-packages (from torch==2.0.0->torchvision) (11.7.99)\n",
      "Requirement already satisfied: jinja2 in /share/apps/python/3.8.6/intel/lib/python3.8/site-packages (from torch==2.0.0->torchvision) (2.11.2)\n",
      "Requirement already satisfied: nvidia-cuda-cupti-cu11==11.7.101; platform_system == \"Linux\" and platform_machine == \"x86_64\" in ./.local/lib/python3.8/site-packages (from torch==2.0.0->torchvision) (11.7.101)\n",
      "Requirement already satisfied: nvidia-curand-cu11==10.2.10.91; platform_system == \"Linux\" and platform_machine == \"x86_64\" in ./.local/lib/python3.8/site-packages (from torch==2.0.0->torchvision) (10.2.10.91)\n",
      "Requirement already satisfied: nvidia-cusparse-cu11==11.7.4.91; platform_system == \"Linux\" and platform_machine == \"x86_64\" in ./.local/lib/python3.8/site-packages (from torch==2.0.0->torchvision) (11.7.4.91)\n",
      "Requirement already satisfied: triton==2.0.0; platform_system == \"Linux\" and platform_machine == \"x86_64\" in ./.local/lib/python3.8/site-packages (from torch==2.0.0->torchvision) (2.0.0)\n",
      "Requirement already satisfied: nvidia-nccl-cu11==2.14.3; platform_system == \"Linux\" and platform_machine == \"x86_64\" in ./.local/lib/python3.8/site-packages (from torch==2.0.0->torchvision) (2.14.3)\n",
      "Requirement already satisfied: sympy in ./.local/lib/python3.8/site-packages (from torch==2.0.0->torchvision) (1.11.1)\n",
      "Requirement already satisfied: nvidia-cuda-runtime-cu11==11.7.99; platform_system == \"Linux\" and platform_machine == \"x86_64\" in ./.local/lib/python3.8/site-packages (from torch==2.0.0->torchvision) (11.7.99)\n",
      "Requirement already satisfied: nvidia-nvtx-cu11==11.7.91; platform_system == \"Linux\" and platform_machine == \"x86_64\" in ./.local/lib/python3.8/site-packages (from torch==2.0.0->torchvision) (11.7.91)\n",
      "Requirement already satisfied: filelock in /share/apps/python/3.8.6/intel/lib/python3.8/site-packages (from torch==2.0.0->torchvision) (3.0.12)\n",
      "Requirement already satisfied: nvidia-cudnn-cu11==8.5.0.96; platform_system == \"Linux\" and platform_machine == \"x86_64\" in ./.local/lib/python3.8/site-packages (from torch==2.0.0->torchvision) (8.5.0.96)\n",
      "Requirement already satisfied: networkx in ./.local/lib/python3.8/site-packages (from torch==2.0.0->torchvision) (3.0)\n",
      "Requirement already satisfied: chardet<4,>=3.0.2 in /share/apps/python/3.8.6/intel/lib/python3.8/site-packages (from requests->torchvision) (3.0.4)\n",
      "Requirement already satisfied: idna<3,>=2.5 in /share/apps/python/3.8.6/intel/lib/python3.8/site-packages (from requests->torchvision) (2.10)\n",
      "Requirement already satisfied: urllib3!=1.25.0,!=1.25.1,<1.26,>=1.21.1 in /share/apps/python/3.8.6/intel/lib/python3.8/site-packages (from requests->torchvision) (1.25.10)\n",
      "Requirement already satisfied: six>=1.5 in /share/apps/python/3.8.6/intel/lib/python3.8/site-packages (from python-dateutil>=2.1->matplotlib!=3.6.1,>=3.1->seaborn) (1.15.0)\n",
      "Requirement already satisfied: wheel in /share/apps/python/3.8.6/intel/lib/python3.8/site-packages (from nvidia-cublas-cu11==11.10.3.66; platform_system == \"Linux\" and platform_machine == \"x86_64\"->torch==2.0.0->torchvision) (0.35.1)\n",
      "Requirement already satisfied: setuptools in /share/apps/python/3.8.6/intel/lib/python3.8/site-packages (from nvidia-cublas-cu11==11.10.3.66; platform_system == \"Linux\" and platform_machine == \"x86_64\"->torch==2.0.0->torchvision) (49.2.1)\n",
      "Requirement already satisfied: MarkupSafe>=0.23 in /share/apps/python/3.8.6/intel/lib/python3.8/site-packages (from jinja2->torch==2.0.0->torchvision) (1.1.1)\n",
      "Requirement already satisfied: lit in ./.local/lib/python3.8/site-packages (from triton==2.0.0; platform_system == \"Linux\" and platform_machine == \"x86_64\"->torch==2.0.0->torchvision) (16.0.0)\n",
      "Requirement already satisfied: cmake in ./.local/lib/python3.8/site-packages (from triton==2.0.0; platform_system == \"Linux\" and platform_machine == \"x86_64\"->torch==2.0.0->torchvision) (3.26.1)\n",
      "Requirement already satisfied: mpmath>=0.19 in ./.local/lib/python3.8/site-packages (from sympy->torch==2.0.0->torchvision) (1.3.0)\n",
      "\u001b[33mWARNING: You are using pip version 20.2.3; however, version 23.0.1 is available.\n",
      "You should consider upgrading via the '/share/apps/python/3.8.6/intel/bin/python -m pip install --upgrade pip' command.\u001b[0m\n"
     ]
    }
   ],
   "source": [
    "!pip install tqdm seaborn torchvision"
   ]
  },
  {
   "cell_type": "markdown",
   "metadata": {},
   "source": [
    "> Check box information like current user, hostname, processor, RAM and GPU to ensure everything is fine."
   ]
  },
  {
   "cell_type": "code",
   "execution_count": 3,
   "metadata": {},
   "outputs": [
    {
     "name": "stdout",
     "output_type": "stream",
     "text": [
      "vgn2004\n"
     ]
    }
   ],
   "source": [
    "!whoami"
   ]
  },
  {
   "cell_type": "code",
   "execution_count": 4,
   "metadata": {},
   "outputs": [
    {
     "name": "stdout",
     "output_type": "stream",
     "text": [
      "Hostname: gr008.hpc.nyu.edu\n"
     ]
    }
   ],
   "source": [
    "!echo \"Hostname: $(hostname)\""
   ]
  },
  {
   "cell_type": "code",
   "execution_count": 5,
   "metadata": {},
   "outputs": [
    {
     "name": "stdout",
     "output_type": "stream",
     "text": [
      "Processor: Intel(R) Xeon(R) Platinum 8268 CPU @ 2.90GHz\n"
     ]
    }
   ],
   "source": [
    "!echo \"Processor: $(lscpu | grep 'Model name' | awk -F ':' '{print $2}' | xargs)\""
   ]
  },
  {
   "cell_type": "code",
   "execution_count": 6,
   "metadata": {},
   "outputs": [
    {
     "name": "stdout",
     "output_type": "stream",
     "text": [
      "RAM: 164Gi\n"
     ]
    }
   ],
   "source": [
    "!echo \"RAM: $(free -h | grep Mem: | awk '{print $4}')\""
   ]
  },
  {
   "cell_type": "code",
   "execution_count": 7,
   "metadata": {},
   "outputs": [
    {
     "name": "stdout",
     "output_type": "stream",
     "text": [
      "Tue Mar 28 07:33:47 2023       \n",
      "+-----------------------------------------------------------------------------+\n",
      "| NVIDIA-SMI 520.61.05    Driver Version: 520.61.05    CUDA Version: 11.8     |\n",
      "|-------------------------------+----------------------+----------------------+\n",
      "| GPU  Name        Persistence-M| Bus-Id        Disp.A | Volatile Uncorr. ECC |\n",
      "| Fan  Temp  Perf  Pwr:Usage/Cap|         Memory-Usage | GPU-Util  Compute M. |\n",
      "|                               |                      |               MIG M. |\n",
      "|===============================+======================+======================|\n",
      "|   0  Quadro RTX 8000     On   | 00000000:2F:00.0 Off |                    0 |\n",
      "| N/A   34C    P0    51W / 250W |      0MiB / 46080MiB |      0%      Default |\n",
      "|                               |                      |                  N/A |\n",
      "+-------------------------------+----------------------+----------------------+\n",
      "                                                                               \n",
      "+-----------------------------------------------------------------------------+\n",
      "| Processes:                                                                  |\n",
      "|  GPU   GI   CI        PID   Type   Process name                  GPU Memory |\n",
      "|        ID   ID                                                   Usage      |\n",
      "|=============================================================================|\n",
      "|  No running processes found                                                 |\n",
      "+-----------------------------------------------------------------------------+\n"
     ]
    }
   ],
   "source": [
    "!nvidia-smi"
   ]
  },
  {
   "cell_type": "markdown",
   "metadata": {},
   "source": [
    "> Check if the above GPU is being interfaced with by torch library"
   ]
  },
  {
   "cell_type": "code",
   "execution_count": 8,
   "metadata": {},
   "outputs": [
    {
     "data": {
      "text/plain": [
       "True"
      ]
     },
     "execution_count": 8,
     "metadata": {},
     "output_type": "execute_result"
    }
   ],
   "source": [
    "import torch\n",
    "torch.cuda.is_available()"
   ]
  },
  {
   "cell_type": "markdown",
   "metadata": {},
   "source": [
    "> Confirm number of GPUs available"
   ]
  },
  {
   "cell_type": "code",
   "execution_count": 9,
   "metadata": {},
   "outputs": [
    {
     "data": {
      "text/plain": [
       "[<torch.cuda.device at 0x1467bd947c40>]"
      ]
     },
     "execution_count": 9,
     "metadata": {},
     "output_type": "execute_result"
    }
   ],
   "source": [
    "[torch.cuda.device(i) for i in range(torch.cuda.device_count())]"
   ]
  },
  {
   "cell_type": "markdown",
   "metadata": {},
   "source": [
    "> Import libraries\n",
    "\n",
    "- Pickle: Useful for saving models\n",
    "- Tqdm: Provides a loading bar for for-loops, useful for tracking progress during an epoch\n",
    "- Numpy, Pandas: Standard data manipulation libraries\n",
    "- Matplotlib, Seaborn: Standard data visualization libraries\n",
    "- Torch.nn: Useful for defining neural net layers"
   ]
  },
  {
   "cell_type": "code",
   "execution_count": 10,
   "metadata": {},
   "outputs": [],
   "source": [
    "import pickle\n",
    "from tqdm import tqdm\n",
    "import numpy as np\n",
    "import pandas as pd\n",
    "import matplotlib.pyplot as plt\n",
    "import seaborn as sns\n",
    "\n",
    "import torch.nn as nn\n",
    "import torch.optim as optim\n",
    "import torch.nn.functional as F\n",
    "import torchvision.datasets as datasets\n",
    "import torchvision.transforms as transforms"
   ]
  },
  {
   "cell_type": "markdown",
   "metadata": {},
   "source": [
    "> Choose available device for training (cuda or cpu)"
   ]
  },
  {
   "cell_type": "code",
   "execution_count": 11,
   "metadata": {},
   "outputs": [
    {
     "data": {
      "text/plain": [
       "device(type='cuda')"
      ]
     },
     "execution_count": 11,
     "metadata": {},
     "output_type": "execute_result"
    }
   ],
   "source": [
    "device = torch.device('cuda' if torch.cuda.is_available() else 'cpu')\n",
    "device"
   ]
  },
  {
   "cell_type": "markdown",
   "metadata": {},
   "source": [
    "> Store commonly changing model configurations in an object for easy tracking"
   ]
  },
  {
   "cell_type": "code",
   "execution_count": 12,
   "metadata": {},
   "outputs": [],
   "source": [
    "class ModelConfig:\n",
    "    def __init__(self, num_epochs=10, learning_rate=0.001, optimizer=optim.Adam, criterion=nn.CrossEntropyLoss):\n",
    "        self.num_epochs = num_epochs\n",
    "        self.learning_rate = learning_rate\n",
    "        self.optimizer = optimizer\n",
    "        self.criterion = criterion    "
   ]
  },
  {
   "cell_type": "markdown",
   "metadata": {},
   "source": [
    "> Create utility functions to help with computing mean and standard deviation of a dataset, fetching learned parameters of the batch normalization layers and creating violin plots."
   ]
  },
  {
   "cell_type": "code",
   "execution_count": 13,
   "metadata": {},
   "outputs": [],
   "source": [
    "def compute_mean_std(dataset):\n",
    "    mean = 0.0\n",
    "    std = 0.0\n",
    "    for data, _ in dataset:\n",
    "        mean += data.mean()\n",
    "        std += data.std()\n",
    "    mean /= len(dataset)\n",
    "    std /= len(dataset)\n",
    "    return mean.item(), std.item()\n",
    "\n",
    "def get_bn_params(model):\n",
    "    bn_params = {}\n",
    "    for name, layer in model.named_modules():\n",
    "        if isinstance(layer, nn.BatchNorm2d):\n",
    "            bn_params[name] = {\n",
    "                'weight': layer.weight.detach().cpu().numpy(),\n",
    "                'bias': layer.bias.detach().cpu().numpy()\n",
    "            }\n",
    "    return bn_params\n",
    "\n",
    "def create_violin_plots(bn_params):\n",
    "    data = []\n",
    "    for layer_name, params in bn_params.items():\n",
    "        for param_name, values in params.items():\n",
    "            for value in values:\n",
    "                data.append({\n",
    "                    'Layer': layer_name,\n",
    "                    'Parameter': param_name,\n",
    "                    'Value': value\n",
    "                })\n",
    "    df = pd.DataFrame(data)\n",
    "    sns.violinplot(x='Layer', y='Value', hue='Parameter', data=df, split=True, inner='quartile')\n",
    "    plt.show()"
   ]
  },
  {
   "cell_type": "markdown",
   "metadata": {},
   "source": [
    "> Define functions that will the train or evaluate loop for a particular dataset and model. Note that the training loops allows for schedulers to ensure that we can use the same function for Problem 2 as well."
   ]
  },
  {
   "cell_type": "code",
   "execution_count": 14,
   "metadata": {},
   "outputs": [],
   "source": [
    "def train(data_loader, model, criterion, optimizer, scheduler = None, early_stop=None):\n",
    "    learning_rate_tracker = {}\n",
    "    epoch_correct = 0\n",
    "    running_loss = 0.0\n",
    "    model.train()\n",
    "    for i, (images, labels) in tqdm(enumerate(data_loader)):\n",
    "        learning_rate_tracker[i] = optimizer.param_groups[0]['lr']\n",
    "        \n",
    "        images = images.to(device)\n",
    "        labels = labels.to(device)\n",
    "        \n",
    "        optimizer.zero_grad()\n",
    "        outputs = model(images)\n",
    "        loss = criterion(outputs, labels) \n",
    "        running_loss += loss.item()\n",
    "        predicted = torch.max(outputs.data, 1)[1]\n",
    "        epoch_correct += (predicted == labels).sum().item()\n",
    "        \n",
    "        if early_stop and i==early_stop:\n",
    "            break\n",
    "            \n",
    "        loss.backward()\n",
    "        optimizer.step()\n",
    "        if scheduler:\n",
    "            scheduler.step()\n",
    "\n",
    "    \n",
    "    return epoch_correct , running_loss, learning_rate_tracker\n",
    "    \n",
    "    \n",
    "def evaluate(data_loader, model, criterion):\n",
    "    epoch_correct = 0\n",
    "    running_loss = 0.0\n",
    "    model.eval()\n",
    "    with torch.no_grad():\n",
    "        for images, labels in data_loader:\n",
    "            images = images.to(device)\n",
    "            labels = labels.to(device)\n",
    "            outputs = model(images)\n",
    "            loss = criterion(outputs, labels) \n",
    "            running_loss += loss.item()\n",
    "            predicted = torch.max(outputs.data, 1)[1]\n",
    "            epoch_correct += (predicted == labels).sum().item()\n",
    "    \n",
    "    return epoch_correct, running_loss"
   ]
  },
  {
   "cell_type": "markdown",
   "metadata": {},
   "source": [
    "> Load data using only the ToTensor() transform. We will handle input data normalization later"
   ]
  },
  {
   "cell_type": "code",
   "execution_count": 15,
   "metadata": {},
   "outputs": [],
   "source": [
    "batch_size=64\n",
    "\n",
    "train_dataset_pre_normalize = datasets.MNIST(root='data/', train=True, transform=transforms.Compose([transforms.ToTensor()]), download=True)\n",
    "\n",
    "test_dataset_pre_normalize = datasets.MNIST(root='data/', train=False, transform=transforms.Compose([transforms.ToTensor()]), download=True)\n",
    "\n",
    "train_loader_pre_normalize = torch.utils.data.DataLoader(dataset=train_dataset_pre_normalize, batch_size=batch_size, shuffle=True)\n",
    "\n",
    "test_loader_pre_normalize = torch.utils.data.DataLoader(dataset=test_dataset_pre_normalize, batch_size=batch_size, \n",
    "shuffle=True)"
   ]
  },
  {
   "cell_type": "markdown",
   "metadata": {},
   "source": [
    "> Compute mean and standard deviation for MNIST trianing dataset"
   ]
  },
  {
   "cell_type": "code",
   "execution_count": 16,
   "metadata": {},
   "outputs": [
    {
     "data": {
      "text/plain": [
       "'Mean: 0.131, Std: 0.302'"
      ]
     },
     "execution_count": 16,
     "metadata": {},
     "output_type": "execute_result"
    }
   ],
   "source": [
    "mean, std = compute_mean_std(train_dataset_pre_normalize)\n",
    "f\"Mean: {mean:.3f}, Std: {std:.3f}\""
   ]
  },
  {
   "cell_type": "markdown",
   "metadata": {},
   "source": [
    "> Normalize the dataset using the calculated mean and standard deviation, then create data loaders"
   ]
  },
  {
   "cell_type": "code",
   "execution_count": 17,
   "metadata": {},
   "outputs": [],
   "source": [
    "transform_with_normalize = transforms.Compose([transforms.ToTensor(),transforms.Normalize((mean,), (std,))])\n",
    "\n",
    "train_dataset_post_normalize = datasets.MNIST(root='data/', train=True, transform=transform_with_normalize, download=True)\n",
    "\n",
    "test_dataset_post_normalize = datasets.MNIST(root='data/', train=False, transform=transform_with_normalize, download=True)\n",
    "\n",
    "train_loader_post_normalize = torch.utils.data.DataLoader(dataset=train_dataset_post_normalize, batch_size=batch_size, shuffle=True)\n",
    "\n",
    "test_loader_post_normalize = torch.utils.data.DataLoader(dataset=test_dataset_post_normalize, batch_size=batch_size, shuffle=True)"
   ]
  },
  {
   "cell_type": "markdown",
   "metadata": {},
   "source": [
    "> LeNet Architecture. Include booleans to allow for addition of batch norm and dropout, so that we can handle parts 4 and 5 of problem 1 elegantly"
   ]
  },
  {
   "cell_type": "code",
   "execution_count": 18,
   "metadata": {},
   "outputs": [],
   "source": [
    "class LeNet5(nn.Module):\n",
    "    def __init__(self, has_input_batch_norm=False, has_dropout=False):\n",
    "        super(LeNet5, self).__init__()\n",
    "        \n",
    "        self.has_input_batch_norm = has_input_batch_norm\n",
    "        self.has_dropout = has_dropout\n",
    "        \n",
    "        if self.has_dropout:\n",
    "            self.dropout0 = nn.Dropout2d(0.2)\n",
    "            \n",
    "        if self.has_input_batch_norm:\n",
    "            self.bn0 = nn.BatchNorm2d(1)\n",
    "        \n",
    "        self.conv1 = nn.Conv2d(1, 6, kernel_size=5)\n",
    "        self.bn1 = nn.BatchNorm2d(6)\n",
    "        self.pool1 = nn.MaxPool2d(kernel_size=2, stride=2)        \n",
    "        self.conv2 = nn.Conv2d(6, 16, kernel_size=5)\n",
    "        self.bn2 = nn.BatchNorm2d(16)\n",
    "        self.pool2 = nn.MaxPool2d(kernel_size=2, stride=2)\n",
    "        \n",
    "        self.fc1 = nn.Linear(16 * 4 * 4, 120)\n",
    "        self.fc2 = nn.Linear(120, 84)\n",
    "        self.fc3 = nn.Linear(84, 10)\n",
    "        \n",
    "        if self.has_dropout:\n",
    "            self.dropout1 = nn.Dropout(0.5)\n",
    "\n",
    "    def forward(self, x):\n",
    "        if self.has_input_batch_norm:\n",
    "            x = self.bn0(x)\n",
    "        if self.has_dropout:\n",
    "            x = self.dropout0(x)\n",
    "    \n",
    "        x = F.relu(self.bn1(self.conv1(x)))\n",
    "        x = self.pool1(x)\n",
    "        x = F.relu(self.bn2(self.conv2(x)))\n",
    "        x = self.pool2(x)\n",
    "        x = x.view(x.size(0), -1)\n",
    "        \n",
    "        \n",
    "        if self.has_dropout:\n",
    "            x = self.dropout1(x)\n",
    "        x = F.relu(self.fc1(x))    \n",
    "        x = F.relu(self.fc2(x))\n",
    "        x = self.fc3(x)\n",
    "        return x\n",
    "    "
   ]
  },
  {
   "cell_type": "markdown",
   "metadata": {},
   "source": [
    "> Train over 10 epochs using Adam optimizer, without input batch norm and dropout, but with standard normalization. Save the model with best test accuracy."
   ]
  },
  {
   "cell_type": "code",
   "execution_count": 19,
   "metadata": {},
   "outputs": [
    {
     "name": "stdout",
     "output_type": "stream",
     "text": [
      "Epoch: (1/10)\n"
     ]
    },
    {
     "name": "stderr",
     "output_type": "stream",
     "text": [
      "938it [00:14, 66.71it/s]\n"
     ]
    },
    {
     "name": "stdout",
     "output_type": "stream",
     "text": [
      "Training Accuracy: 94.77%, Training Loss: 0.1841541302245436\n",
      "Validation Accuracy: 97.90%, Validation Loss: 0.0703389523843768\n",
      "Test Accuracy: 98.02%, Test Loss: 0.06505333566682259\n",
      "Epoch: (2/10)\n"
     ]
    },
    {
     "name": "stderr",
     "output_type": "stream",
     "text": [
      "938it [00:12, 75.75it/s]\n"
     ]
    },
    {
     "name": "stdout",
     "output_type": "stream",
     "text": [
      "Training Accuracy: 98.15%, Training Loss: 0.05903478448568627\n",
      "Validation Accuracy: 98.45%, Validation Loss: 0.05016697545822309\n",
      "Test Accuracy: 98.28%, Test Loss: 0.0551766776242501\n",
      "Epoch: (3/10)\n"
     ]
    },
    {
     "name": "stderr",
     "output_type": "stream",
     "text": [
      "938it [00:12, 74.68it/s]\n"
     ]
    },
    {
     "name": "stdout",
     "output_type": "stream",
     "text": [
      "Training Accuracy: 98.62%, Training Loss: 0.044449803440137575\n",
      "Validation Accuracy: 98.79%, Validation Loss: 0.03814245187902082\n",
      "Test Accuracy: 98.47%, Test Loss: 0.04601950428981014\n",
      "Epoch: (4/10)\n"
     ]
    },
    {
     "name": "stderr",
     "output_type": "stream",
     "text": [
      "938it [00:12, 75.38it/s]\n"
     ]
    },
    {
     "name": "stdout",
     "output_type": "stream",
     "text": [
      "Training Accuracy: 98.91%, Training Loss: 0.03548296938159082\n",
      "Validation Accuracy: 99.04%, Validation Loss: 0.029864504607878366\n",
      "Test Accuracy: 98.89%, Test Loss: 0.03552752648810945\n",
      "Epoch: (5/10)\n"
     ]
    },
    {
     "name": "stderr",
     "output_type": "stream",
     "text": [
      "938it [00:12, 75.42it/s]\n"
     ]
    },
    {
     "name": "stdout",
     "output_type": "stream",
     "text": [
      "Training Accuracy: 99.01%, Training Loss: 0.030789925711201396\n",
      "Validation Accuracy: 99.25%, Validation Loss: 0.02339120068550626\n",
      "Test Accuracy: 98.81%, Test Loss: 0.03481863134011929\n",
      "Epoch: (6/10)\n"
     ]
    },
    {
     "name": "stderr",
     "output_type": "stream",
     "text": [
      "938it [00:12, 75.45it/s]\n"
     ]
    },
    {
     "name": "stdout",
     "output_type": "stream",
     "text": [
      "Training Accuracy: 99.13%, Training Loss: 0.026173009648750935\n",
      "Validation Accuracy: 99.37%, Validation Loss: 0.020017272834085238\n",
      "Test Accuracy: 98.77%, Test Loss: 0.034494104250712365\n",
      "Epoch: (7/10)\n"
     ]
    },
    {
     "name": "stderr",
     "output_type": "stream",
     "text": [
      "938it [00:12, 75.00it/s]\n"
     ]
    },
    {
     "name": "stdout",
     "output_type": "stream",
     "text": [
      "Training Accuracy: 99.29%, Training Loss: 0.021696593685672984\n",
      "Validation Accuracy: 99.37%, Validation Loss: 0.018888347857389853\n",
      "Test Accuracy: 99.02%, Test Loss: 0.03420733135830534\n",
      "Epoch: (8/10)\n"
     ]
    },
    {
     "name": "stderr",
     "output_type": "stream",
     "text": [
      "938it [00:12, 75.26it/s]\n"
     ]
    },
    {
     "name": "stdout",
     "output_type": "stream",
     "text": [
      "Training Accuracy: 99.35%, Training Loss: 0.019907260868534348\n",
      "Validation Accuracy: 99.43%, Validation Loss: 0.017240076509400466\n",
      "Test Accuracy: 98.87%, Test Loss: 0.03554422079432002\n",
      "Epoch: (9/10)\n"
     ]
    },
    {
     "name": "stderr",
     "output_type": "stream",
     "text": [
      "938it [00:12, 75.26it/s]\n"
     ]
    },
    {
     "name": "stdout",
     "output_type": "stream",
     "text": [
      "Training Accuracy: 99.42%, Training Loss: 0.017865732317073776\n",
      "Validation Accuracy: 99.27%, Validation Loss: 0.021061552305289333\n",
      "Test Accuracy: 98.75%, Test Loss: 0.04270146191807888\n",
      "Epoch: (10/10)\n"
     ]
    },
    {
     "name": "stderr",
     "output_type": "stream",
     "text": [
      "938it [00:12, 75.87it/s]\n"
     ]
    },
    {
     "name": "stdout",
     "output_type": "stream",
     "text": [
      "Training Accuracy: 99.55%, Training Loss: 0.014786466272547654\n",
      "Validation Accuracy: 99.68%, Validation Loss: 0.009471515024167347\n",
      "Test Accuracy: 99.07%, Test Loss: 0.03159871137781891\n",
      "\n",
      "\n",
      "Best Test Accuracy: 99.07%\n"
     ]
    }
   ],
   "source": [
    "model_config = ModelConfig()\n",
    "model_q2 = LeNet5().to(device)\n",
    "optimizer = model_config.optimizer(model_q2.parameters(), lr=model_config.learning_rate)\n",
    "criterion = model_config.criterion()\n",
    "\n",
    "num_samples = len(train_loader_post_normalize.dataset)\n",
    "num_batches = len(train_loader_post_normalize)\n",
    "    \n",
    "best_accuracy = 0.0\n",
    "for epoch in range(1,model_config.num_epochs+1):\n",
    "    print(f\"Epoch: ({epoch}/{model_config.num_epochs})\")\n",
    "\n",
    "    training_correct, training_loss, _ = train(data_loader = train_loader_post_normalize,\n",
    "                                             model=model_q2, \n",
    "                                             criterion=criterion, \n",
    "                                             optimizer=optimizer)\n",
    "    training_loss = training_loss/num_batches\n",
    "    training_accuracy = training_correct/num_samples\n",
    "    print(f\"Training Accuracy: {training_accuracy * 100:.2f}%, Training Loss: {training_loss}\")\n",
    "\n",
    "    validation_correct, validation_loss = evaluate(data_loader = train_loader_post_normalize, model=model_q2, criterion=criterion)\n",
    "    validation_loss = validation_loss/num_batches\n",
    "    validation_accuracy = validation_correct/num_samples\n",
    "    print(f\"Validation Accuracy: {validation_accuracy * 100:.2f}%, Validation Loss: {validation_loss}\")\n",
    "    \n",
    "    test_correct, test_loss = evaluate(data_loader = test_loader_post_normalize, model=model_q2, criterion=criterion)\n",
    "    test_loss = test_loss/len(test_loader_post_normalize)\n",
    "    test_accuracy = test_correct/len(test_loader_post_normalize.dataset)\n",
    "    print(f\"Test Accuracy: {test_accuracy * 100:.2f}%, Test Loss: {test_loss}\")\n",
    "\n",
    "    if test_accuracy > best_accuracy:\n",
    "        best_accuracy = test_accuracy\n",
    "        torch.save(model_q2.state_dict(), \"model_q2.pt\")\n",
    "        \n",
    "print(f\"\\n\\nBest Test Accuracy: {best_accuracy * 100:.2f}%\")"
   ]
  },
  {
   "cell_type": "markdown",
   "metadata": {},
   "source": [
    "<span style=\"color: blue;\">What are the learned batch norm parameters for each layer?</span>\n",
    "> Display batch norm parameters of best performing model"
   ]
  },
  {
   "cell_type": "code",
   "execution_count": 20,
   "metadata": {},
   "outputs": [
    {
     "data": {
      "text/plain": [
       "{'bn1': {'weight': array([1.1783487 , 0.8993236 , 1.011529  , 0.86795205, 0.8759164 ,\n",
       "         1.1181725 ], dtype=float32),\n",
       "  'bias': array([-0.14377844, -0.27907577, -0.4010887 , -0.1045674 , -0.218388  ,\n",
       "         -0.02171147], dtype=float32)},\n",
       " 'bn2': {'weight': array([1.1544764, 1.0742028, 0.9533552, 1.1339399, 1.099353 , 1.0336896,\n",
       "         1.1586052, 1.2453828, 1.1750015, 1.0520625, 1.1637381, 1.2307543,\n",
       "         1.0624565, 1.1124377, 1.0248461, 1.0594606], dtype=float32),\n",
       "  'bias': array([-0.17634948, -0.33709148, -0.21682018, -0.2575717 , -0.29878923,\n",
       "         -0.23952906, -0.12922308, -0.221531  , -0.31851035, -0.17422967,\n",
       "         -0.32097363, -0.21304354, -0.17139429, -0.21684048, -0.30944526,\n",
       "         -0.25864315], dtype=float32)}}"
      ]
     },
     "execution_count": 20,
     "metadata": {},
     "output_type": "execute_result"
    }
   ],
   "source": [
    "best_model_q2 = LeNet5().to(device)\n",
    "best_model_q2.load_state_dict(torch.load('model_q2.pt'))\n",
    "bn_params = get_bn_params(best_model_q2)\n",
    "bn_params"
   ]
  },
  {
   "cell_type": "code",
   "execution_count": 21,
   "metadata": {},
   "outputs": [
    {
     "data": {
      "image/png": "[encoded data removed]",
      "text/plain": [
       "<Figure size 432x288 with 1 Axes>"
      ]
     },
     "metadata": {
      "needs_background": "light"
     },
     "output_type": "display_data"
    }
   ],
   "source": [
    "create_violin_plots(bn_params)"
   ]
  },
  {
   "cell_type": "markdown",
   "metadata": {},
   "source": [
    "## Problem 1\n",
    "### Question 3\n",
    "<span style=\"color:blue\">Next instead of standard normalization use batch normalization for the input layer also and train the\n",
    "network.</span>"
   ]
  },
  {
   "cell_type": "markdown",
   "metadata": {},
   "source": [
    "> Train model for  10 epochs using Adam optimizer, add has_input_batch_norm=True while creating the model so that the input layer first goes through a batch norm layer"
   ]
  },
  {
   "cell_type": "code",
   "execution_count": 22,
   "metadata": {},
   "outputs": [
    {
     "name": "stdout",
     "output_type": "stream",
     "text": [
      "Epoch: (1/10)\n"
     ]
    },
    {
     "name": "stderr",
     "output_type": "stream",
     "text": [
      "938it [00:07, 126.93it/s]\n"
     ]
    },
    {
     "name": "stdout",
     "output_type": "stream",
     "text": [
      "Training Accuracy: 94.83%, Training Loss: 0.17949683716578255\n",
      "Validation Accuracy: 98.22%, Validation Loss: 0.058134106420743056\n",
      "Test Accuracy: 98.10%, Test Loss: 0.05674317683342393\n",
      "Epoch: (2/10)\n"
     ]
    },
    {
     "name": "stderr",
     "output_type": "stream",
     "text": [
      "938it [00:07, 127.63it/s]\n"
     ]
    },
    {
     "name": "stdout",
     "output_type": "stream",
     "text": [
      "Training Accuracy: 98.19%, Training Loss: 0.057528676341291766\n",
      "Validation Accuracy: 98.70%, Validation Loss: 0.041459930010824035\n",
      "Test Accuracy: 98.51%, Test Loss: 0.04549453748467194\n",
      "Epoch: (3/10)\n"
     ]
    },
    {
     "name": "stderr",
     "output_type": "stream",
     "text": [
      "938it [00:07, 128.02it/s]\n"
     ]
    },
    {
     "name": "stdout",
     "output_type": "stream",
     "text": [
      "Training Accuracy: 98.55%, Training Loss: 0.04509353274505572\n",
      "Validation Accuracy: 99.02%, Validation Loss: 0.03077078818276312\n",
      "Test Accuracy: 98.69%, Test Loss: 0.03484095653161632\n",
      "Epoch: (4/10)\n"
     ]
    },
    {
     "name": "stderr",
     "output_type": "stream",
     "text": [
      "938it [00:07, 128.79it/s]\n"
     ]
    },
    {
     "name": "stdout",
     "output_type": "stream",
     "text": [
      "Training Accuracy: 98.84%, Training Loss: 0.03546310040259189\n",
      "Validation Accuracy: 99.10%, Validation Loss: 0.02854736948083999\n",
      "Test Accuracy: 98.71%, Test Loss: 0.038399106510366154\n",
      "Epoch: (5/10)\n"
     ]
    },
    {
     "name": "stderr",
     "output_type": "stream",
     "text": [
      "938it [00:07, 127.37it/s]\n"
     ]
    },
    {
     "name": "stdout",
     "output_type": "stream",
     "text": [
      "Training Accuracy: 99.01%, Training Loss: 0.029631990438858013\n",
      "Validation Accuracy: 99.18%, Validation Loss: 0.025007019061528184\n",
      "Test Accuracy: 98.82%, Test Loss: 0.03314868135490472\n",
      "Epoch: (6/10)\n"
     ]
    },
    {
     "name": "stderr",
     "output_type": "stream",
     "text": [
      "938it [00:07, 129.45it/s]\n"
     ]
    },
    {
     "name": "stdout",
     "output_type": "stream",
     "text": [
      "Training Accuracy: 99.11%, Training Loss: 0.026959259557305153\n",
      "Validation Accuracy: 99.06%, Validation Loss: 0.028744737636412124\n",
      "Test Accuracy: 98.74%, Test Loss: 0.039560898733221495\n",
      "Epoch: (7/10)\n"
     ]
    },
    {
     "name": "stderr",
     "output_type": "stream",
     "text": [
      "938it [00:07, 127.78it/s]\n"
     ]
    },
    {
     "name": "stdout",
     "output_type": "stream",
     "text": [
      "Training Accuracy: 99.30%, Training Loss: 0.022507569990490677\n",
      "Validation Accuracy: 99.60%, Validation Loss: 0.012998416804877516\n",
      "Test Accuracy: 99.05%, Test Loss: 0.03082176680173532\n",
      "Epoch: (8/10)\n"
     ]
    },
    {
     "name": "stderr",
     "output_type": "stream",
     "text": [
      "938it [00:07, 128.13it/s]\n"
     ]
    },
    {
     "name": "stdout",
     "output_type": "stream",
     "text": [
      "Training Accuracy: 99.28%, Training Loss: 0.02154760638996934\n",
      "Validation Accuracy: 99.46%, Validation Loss: 0.015040462402385043\n",
      "Test Accuracy: 99.07%, Test Loss: 0.031752772766406444\n",
      "Epoch: (9/10)\n"
     ]
    },
    {
     "name": "stderr",
     "output_type": "stream",
     "text": [
      "938it [00:07, 127.38it/s]\n"
     ]
    },
    {
     "name": "stdout",
     "output_type": "stream",
     "text": [
      "Training Accuracy: 99.42%, Training Loss: 0.017932572181989462\n",
      "Validation Accuracy: 99.17%, Validation Loss: 0.026665957525079234\n",
      "Test Accuracy: 98.87%, Test Loss: 0.037263192985569064\n",
      "Epoch: (10/10)\n"
     ]
    },
    {
     "name": "stderr",
     "output_type": "stream",
     "text": [
      "938it [00:07, 127.75it/s]\n"
     ]
    },
    {
     "name": "stdout",
     "output_type": "stream",
     "text": [
      "Training Accuracy: 99.42%, Training Loss: 0.017269778785063295\n",
      "Validation Accuracy: 99.49%, Validation Loss: 0.014730160108457856\n",
      "Test Accuracy: 98.98%, Test Loss: 0.03525270111109931\n",
      "\n",
      "\n",
      "Best Test Accuracy: 99.07%\n"
     ]
    }
   ],
   "source": [
    "model_config = ModelConfig()\n",
    "model_q3 = LeNet5(has_input_batch_norm=True).to(device)\n",
    "optimizer = model_config.optimizer(model_q3.parameters(), lr=model_config.learning_rate)\n",
    "criterion = model_config.criterion()\n",
    "    \n",
    "best_accuracy = 0.0\n",
    "for epoch in range(1,model_config.num_epochs+1):\n",
    "    print(f\"Epoch: ({epoch}/{model_config.num_epochs})\")\n",
    "\n",
    "    training_correct, training_loss, _ = train(data_loader = train_loader_pre_normalize, model=model_q3, criterion=criterion, optimizer=optimizer)\n",
    "    training_loss = training_loss/num_batches\n",
    "    training_accuracy = training_correct/num_samples\n",
    "    print(f\"Training Accuracy: {training_accuracy * 100:.2f}%, Training Loss: {training_loss}\")\n",
    "\n",
    "    validation_correct, validation_loss = evaluate(data_loader = train_loader_pre_normalize, model=model_q3, criterion=criterion)\n",
    "    validation_loss = validation_loss/num_batches\n",
    "    validation_accuracy = validation_correct/num_samples\n",
    "    print(f\"Validation Accuracy: {validation_accuracy * 100:.2f}%, Validation Loss: {validation_loss}\")\n",
    "\n",
    "    test_correct, test_loss = evaluate(data_loader = test_loader_pre_normalize, model=model_q3, criterion=criterion)\n",
    "    test_loss = test_loss/len(test_loader_pre_normalize)\n",
    "    test_accuracy = test_correct/len(test_loader_pre_normalize.dataset)\n",
    "    print(f\"Test Accuracy: {test_accuracy * 100:.2f}%, Test Loss: {test_loss}\")\n",
    "\n",
    "    if test_accuracy > best_accuracy:\n",
    "        best_accuracy = test_accuracy\n",
    "        torch.save(model_q3.state_dict(), \"model_q3.pt\")\n",
    "        \n",
    "print(f\"\\n\\nBest Test Accuracy: {best_accuracy * 100:.2f}%\")"
   ]
  },
  {
   "cell_type": "markdown",
   "metadata": {},
   "source": [
    "<span style=\"color:blue\">Compare the train/test accuracy and loss for the two cases.</span>"
   ]
  },
  {
   "cell_type": "markdown",
   "metadata": {},
   "source": [
    "| | Training Accuracy (%) | Test Accuracy (%) | Training Loss | Test Loss|\n",
    "| --------------- | --------------- | --------------- |--------------- |--------------- |\n",
    "| Standard Normalization | 99.55 | 99.07 | 0.0147 | 0.0316 |\n",
    "| Batch Normalization | 99.42 | 99.07| 0.0179 | 0.0318 |\n",
    "\n",
    "*Using batch normalization on the input layer does not improve or degrade performance in this case (performance as measured by test accuracy)*"
   ]
  },
  {
   "cell_type": "code",
   "execution_count": 23,
   "metadata": {},
   "outputs": [
    {
     "data": {
      "text/plain": [
       "{'bn0': {'weight': array([0.6893037], dtype=float32),\n",
       "  'bias': array([-0.0747582], dtype=float32)},\n",
       " 'bn1': {'weight': array([1.1161126 , 0.78168666, 1.0614703 , 1.4144124 , 0.79701525,\n",
       "         0.9259231 ], dtype=float32),\n",
       "  'bias': array([-0.14543329, -0.15585628, -0.14667587, -0.02945742, -0.3383623 ,\n",
       "         -0.18583116], dtype=float32)},\n",
       " 'bn2': {'weight': array([1.1373909, 1.1015285, 1.1359106, 1.1994476, 1.0689911, 1.1291298,\n",
       "         1.0594531, 1.1541159, 1.0551395, 1.214246 , 1.260223 , 1.1441532,\n",
       "         1.1350017, 1.1434388, 1.1116606, 1.0875777], dtype=float32),\n",
       "  'bias': array([-0.25120223, -0.17043085, -0.14725134, -0.23304912, -0.1573699 ,\n",
       "         -0.07923891, -0.22200681, -0.18591556, -0.22618972, -0.1411473 ,\n",
       "         -0.21291703, -0.21307014, -0.0847507 , -0.10090569, -0.16554096,\n",
       "         -0.16665632], dtype=float32)}}"
      ]
     },
     "execution_count": 23,
     "metadata": {},
     "output_type": "execute_result"
    }
   ],
   "source": [
    "best_model_q3 = LeNet5(has_input_batch_norm=True).to(device)\n",
    "best_model_q3.load_state_dict(torch.load('model_q3.pt'))\n",
    "bn_params = get_bn_params(best_model_q3)\n",
    "bn_params"
   ]
  },
  {
   "cell_type": "markdown",
   "metadata": {},
   "source": [
    "<span style=\"color:blue\">Plot the distribution of learned batch norm parameters for each layer (including input) using\n",
    "violin plots</span>"
   ]
  },
  {
   "cell_type": "code",
   "execution_count": 24,
   "metadata": {
    "scrolled": true
   },
   "outputs": [
    {
     "data": {
      "image/png": "[encoded data removed]",
      "text/plain": [
       "<Figure size 432x288 with 1 Axes>"
      ]
     },
     "metadata": {
      "needs_background": "light"
     },
     "output_type": "display_data"
    }
   ],
   "source": [
    "create_violin_plots(bn_params)"
   ]
  },
  {
   "cell_type": "markdown",
   "metadata": {},
   "source": [
    "## Problem 1\n",
    "### Question 4\n",
    "<span style=\"color:blue\">Train the network without batch normalization but this time use dropout</span>"
   ]
  },
  {
   "cell_type": "markdown",
   "metadata": {},
   "source": [
    "> Train model for 10 epochs using Adam optimizer, add has_dropout=True while creating the model so that the dropout layers are created and included"
   ]
  },
  {
   "cell_type": "code",
   "execution_count": 25,
   "metadata": {
    "scrolled": false
   },
   "outputs": [
    {
     "name": "stdout",
     "output_type": "stream",
     "text": [
      "Epoch: (1/10)\n"
     ]
    },
    {
     "name": "stderr",
     "output_type": "stream",
     "text": [
      "938it [00:12, 74.78it/s]\n"
     ]
    },
    {
     "name": "stdout",
     "output_type": "stream",
     "text": [
      "Training Accuracy: 74.57%, Training Loss: 0.706443956951851\n",
      "Validation Accuracy: 97.14%, Validation Loss: 0.10361708193493169\n",
      "Test Accuracy: 97.39%, Test Loss: 0.09395724905144637\n",
      "Epoch: (2/10)\n"
     ]
    },
    {
     "name": "stderr",
     "output_type": "stream",
     "text": [
      "938it [00:12, 74.35it/s]\n"
     ]
    },
    {
     "name": "stdout",
     "output_type": "stream",
     "text": [
      "Training Accuracy: 78.88%, Training Loss: 0.5669966541977325\n",
      "Validation Accuracy: 98.11%, Validation Loss: 0.07153918534747637\n",
      "Test Accuracy: 98.14%, Test Loss: 0.06861303396712823\n",
      "Epoch: (3/10)\n"
     ]
    },
    {
     "name": "stderr",
     "output_type": "stream",
     "text": [
      "938it [00:12, 74.69it/s]\n"
     ]
    },
    {
     "name": "stdout",
     "output_type": "stream",
     "text": [
      "Training Accuracy: 79.47%, Training Loss: 0.5492089830958513\n",
      "Validation Accuracy: 98.44%, Validation Loss: 0.055915707481036116\n",
      "Test Accuracy: 98.48%, Test Loss: 0.05031643354683925\n",
      "Epoch: (4/10)\n"
     ]
    },
    {
     "name": "stderr",
     "output_type": "stream",
     "text": [
      "938it [00:12, 74.55it/s]\n"
     ]
    },
    {
     "name": "stdout",
     "output_type": "stream",
     "text": [
      "Training Accuracy: 79.68%, Training Loss: 0.5420286856385182\n",
      "Validation Accuracy: 98.72%, Validation Loss: 0.049719914510997054\n",
      "Test Accuracy: 98.72%, Test Loss: 0.04714171643291784\n",
      "Epoch: (5/10)\n"
     ]
    },
    {
     "name": "stderr",
     "output_type": "stream",
     "text": [
      "938it [00:12, 74.56it/s]\n"
     ]
    },
    {
     "name": "stdout",
     "output_type": "stream",
     "text": [
      "Training Accuracy: 80.14%, Training Loss: 0.5272525796758086\n",
      "Validation Accuracy: 98.95%, Validation Loss: 0.041947689847643375\n",
      "Test Accuracy: 98.92%, Test Loss: 0.040396552405373494\n",
      "Epoch: (6/10)\n"
     ]
    },
    {
     "name": "stderr",
     "output_type": "stream",
     "text": [
      "938it [00:12, 74.11it/s]\n"
     ]
    },
    {
     "name": "stdout",
     "output_type": "stream",
     "text": [
      "Training Accuracy: 80.27%, Training Loss: 0.5181908504382126\n",
      "Validation Accuracy: 99.01%, Validation Loss: 0.03795950975902537\n",
      "Test Accuracy: 98.93%, Test Loss: 0.03717548094517818\n",
      "Epoch: (7/10)\n"
     ]
    },
    {
     "name": "stderr",
     "output_type": "stream",
     "text": [
      "938it [00:12, 75.45it/s]\n"
     ]
    },
    {
     "name": "stdout",
     "output_type": "stream",
     "text": [
      "Training Accuracy: 80.37%, Training Loss: 0.5203123685361734\n",
      "Validation Accuracy: 98.95%, Validation Loss: 0.042027049349682495\n",
      "Test Accuracy: 99.02%, Test Loss: 0.04032179667276277\n",
      "Epoch: (8/10)\n"
     ]
    },
    {
     "name": "stderr",
     "output_type": "stream",
     "text": [
      "938it [00:12, 75.14it/s]\n"
     ]
    },
    {
     "name": "stdout",
     "output_type": "stream",
     "text": [
      "Training Accuracy: 80.36%, Training Loss: 0.5200373992355648\n",
      "Validation Accuracy: 99.23%, Validation Loss: 0.033373269143758585\n",
      "Test Accuracy: 99.19%, Test Loss: 0.03494665663908859\n",
      "Epoch: (9/10)\n"
     ]
    },
    {
     "name": "stderr",
     "output_type": "stream",
     "text": [
      "938it [00:12, 74.67it/s]\n"
     ]
    },
    {
     "name": "stdout",
     "output_type": "stream",
     "text": [
      "Training Accuracy: 80.46%, Training Loss: 0.516831392910816\n",
      "Validation Accuracy: 99.20%, Validation Loss: 0.03507284211840774\n",
      "Test Accuracy: 99.14%, Test Loss: 0.03596376079864278\n",
      "Epoch: (10/10)\n"
     ]
    },
    {
     "name": "stderr",
     "output_type": "stream",
     "text": [
      "938it [00:12, 74.54it/s]\n"
     ]
    },
    {
     "name": "stdout",
     "output_type": "stream",
     "text": [
      "Training Accuracy: 80.50%, Training Loss: 0.5168115777660535\n",
      "Validation Accuracy: 99.14%, Validation Loss: 0.03420154519775299\n",
      "Test Accuracy: 99.11%, Test Loss: 0.03694250567217067\n",
      "\n",
      "\n",
      "Best Test Accuracy: 99.19%\n"
     ]
    }
   ],
   "source": [
    "model_config = ModelConfig()\n",
    "model_q4 = LeNet5(has_dropout=True).to(device)\n",
    "optimizer = model_config.optimizer(model_q4.parameters(), lr=model_config.learning_rate)\n",
    "criterion = model_config.criterion()\n",
    "    \n",
    "best_accuracy = 0.0\n",
    "for epoch in range(1,model_config.num_epochs+1):\n",
    "    print(f\"Epoch: ({epoch}/{model_config.num_epochs})\")\n",
    "\n",
    "    training_correct, training_loss, _ = train(data_loader = train_loader_post_normalize, model=model_q4, criterion=criterion, optimizer=optimizer)\n",
    "    training_loss = training_loss/num_batches\n",
    "    training_accuracy = training_correct/num_samples\n",
    "    print(f\"Training Accuracy: {training_accuracy * 100:.2f}%, Training Loss: {training_loss}\")\n",
    "\n",
    "    validation_correct, validation_loss = evaluate(data_loader = train_loader_post_normalize, model=model_q4, criterion=criterion)\n",
    "    validation_loss = validation_loss/num_batches\n",
    "    validation_accuracy = validation_correct/num_samples\n",
    "    print(f\"Validation Accuracy: {validation_accuracy * 100:.2f}%, Validation Loss: {validation_loss}\")\n",
    "\n",
    "    test_correct, test_loss = evaluate(data_loader = test_loader_post_normalize, model=model_q4, criterion=criterion)\n",
    "    test_loss = test_loss/len(test_loader_post_normalize)\n",
    "    test_accuracy = test_correct/len(test_loader_post_normalize.dataset)\n",
    "    print(f\"Test Accuracy: {test_accuracy * 100:.2f}%, Test Loss: {test_loss}\")\n",
    "\n",
    "    if test_accuracy > best_accuracy:\n",
    "        best_accuracy = test_accuracy\n",
    "        torch.save(model_q4.state_dict(), \"model_q4.pt\")\n",
    "\n",
    "print(f\"\\n\\nBest Test Accuracy: {best_accuracy * 100:.2f}%\")"
   ]
  },
  {
   "cell_type": "markdown",
   "metadata": {},
   "source": [
    "<span style=\"color:blue\">Compare test accuracy using dropout to test accuracy obtained using batch normalization in parts 2 and 3</span>"
   ]
  },
  {
   "cell_type": "markdown",
   "metadata": {},
   "source": [
    "|  | Test Accuracy (%) |\n",
    "| --------------- | --------------- |\n",
    "| Dropout | 99.19|\n",
    "| Standard Normalization | 99.07 |\n",
    "| Batch Normalization | 99.07 | \n",
    "\n",
    "*Performance using dropout is an improvement over not using dropout.*"
   ]
  },
  {
   "cell_type": "markdown",
   "metadata": {},
   "source": [
    "## Problem 1\n",
    "### Question 5\n",
    "<span style=\"color:blue\">Now train the network using both batch normalization and dropout.</span>"
   ]
  },
  {
   "cell_type": "markdown",
   "metadata": {},
   "source": [
    "> Train model for  10 epochs using Adam optimizer, add has_dropout=True and has_input_batch_norm=True"
   ]
  },
  {
   "cell_type": "code",
   "execution_count": 26,
   "metadata": {
    "scrolled": false
   },
   "outputs": [
    {
     "name": "stdout",
     "output_type": "stream",
     "text": [
      "Epoch: (1/10)\n"
     ]
    },
    {
     "name": "stderr",
     "output_type": "stream",
     "text": [
      "938it [00:07, 124.89it/s]\n"
     ]
    },
    {
     "name": "stdout",
     "output_type": "stream",
     "text": [
      "Training Accuracy: 73.89%, Training Loss: 0.7183171374075956\n",
      "Validation Accuracy: 97.75%, Validation Loss: 0.09200607391515139\n",
      "Test Accuracy: 97.90%, Test Loss: 0.08349796956416908\n",
      "Epoch: (2/10)\n"
     ]
    },
    {
     "name": "stderr",
     "output_type": "stream",
     "text": [
      "938it [00:07, 125.83it/s]\n"
     ]
    },
    {
     "name": "stdout",
     "output_type": "stream",
     "text": [
      "Training Accuracy: 79.09%, Training Loss: 0.561511052410994\n",
      "Validation Accuracy: 98.33%, Validation Loss: 0.06642228511791588\n",
      "Test Accuracy: 98.33%, Test Loss: 0.06203597849294259\n",
      "Epoch: (3/10)\n"
     ]
    },
    {
     "name": "stderr",
     "output_type": "stream",
     "text": [
      "938it [00:07, 125.55it/s]\n"
     ]
    },
    {
     "name": "stdout",
     "output_type": "stream",
     "text": [
      "Training Accuracy: 79.26%, Training Loss: 0.5521450602868473\n",
      "Validation Accuracy: 98.53%, Validation Loss: 0.05686014005963975\n",
      "Test Accuracy: 98.52%, Test Loss: 0.05368099721729945\n",
      "Epoch: (4/10)\n"
     ]
    },
    {
     "name": "stderr",
     "output_type": "stream",
     "text": [
      "938it [00:07, 126.24it/s]\n"
     ]
    },
    {
     "name": "stdout",
     "output_type": "stream",
     "text": [
      "Training Accuracy: 79.95%, Training Loss: 0.5326844135771936\n",
      "Validation Accuracy: 98.85%, Validation Loss: 0.04411330553707975\n",
      "Test Accuracy: 98.70%, Test Loss: 0.043105250182947155\n",
      "Epoch: (5/10)\n"
     ]
    },
    {
     "name": "stderr",
     "output_type": "stream",
     "text": [
      "938it [00:07, 126.09it/s]\n"
     ]
    },
    {
     "name": "stdout",
     "output_type": "stream",
     "text": [
      "Training Accuracy: 79.80%, Training Loss: 0.5332058650661887\n",
      "Validation Accuracy: 98.86%, Validation Loss: 0.04520181864539761\n",
      "Test Accuracy: 98.78%, Test Loss: 0.04406182327942484\n",
      "Epoch: (6/10)\n"
     ]
    },
    {
     "name": "stderr",
     "output_type": "stream",
     "text": [
      "938it [00:07, 125.43it/s]\n"
     ]
    },
    {
     "name": "stdout",
     "output_type": "stream",
     "text": [
      "Training Accuracy: 80.27%, Training Loss: 0.5230348032039366\n",
      "Validation Accuracy: 99.03%, Validation Loss: 0.0407843735398673\n",
      "Test Accuracy: 98.94%, Test Loss: 0.041275620777871766\n",
      "Epoch: (7/10)\n"
     ]
    },
    {
     "name": "stderr",
     "output_type": "stream",
     "text": [
      "938it [00:07, 126.91it/s]\n"
     ]
    },
    {
     "name": "stdout",
     "output_type": "stream",
     "text": [
      "Training Accuracy: 80.43%, Training Loss: 0.5171065539248717\n",
      "Validation Accuracy: 99.08%, Validation Loss: 0.03513264234340601\n",
      "Test Accuracy: 99.10%, Test Loss: 0.035370614530910165\n",
      "Epoch: (8/10)\n"
     ]
    },
    {
     "name": "stderr",
     "output_type": "stream",
     "text": [
      "938it [00:07, 125.86it/s]\n"
     ]
    },
    {
     "name": "stdout",
     "output_type": "stream",
     "text": [
      "Training Accuracy: 80.25%, Training Loss: 0.5192481605355928\n",
      "Validation Accuracy: 99.15%, Validation Loss: 0.03343900344096251\n",
      "Test Accuracy: 99.08%, Test Loss: 0.033922644309806314\n",
      "Epoch: (9/10)\n"
     ]
    },
    {
     "name": "stderr",
     "output_type": "stream",
     "text": [
      "938it [00:07, 126.32it/s]\n"
     ]
    },
    {
     "name": "stdout",
     "output_type": "stream",
     "text": [
      "Training Accuracy: 80.60%, Training Loss: 0.5116056121075585\n",
      "Validation Accuracy: 99.06%, Validation Loss: 0.0355201619155983\n",
      "Test Accuracy: 98.79%, Test Loss: 0.04126750652909659\n",
      "Epoch: (10/10)\n"
     ]
    },
    {
     "name": "stderr",
     "output_type": "stream",
     "text": [
      "938it [00:07, 125.81it/s]\n"
     ]
    },
    {
     "name": "stdout",
     "output_type": "stream",
     "text": [
      "Training Accuracy: 80.72%, Training Loss: 0.5106927934231789\n",
      "Validation Accuracy: 99.30%, Validation Loss: 0.030734814748144164\n",
      "Test Accuracy: 99.22%, Test Loss: 0.03509265894758379\n",
      "\n",
      "\n",
      "Best Test Accuracy: 99.22%\n"
     ]
    }
   ],
   "source": [
    "model_config = ModelConfig()\n",
    "model_q5 = LeNet5(has_input_batch_norm=True, has_dropout=True).to(device)\n",
    "optimizer = model_config.optimizer(model_q5.parameters(), lr=model_config.learning_rate)\n",
    "criterion = model_config.criterion()\n",
    "    \n",
    "best_accuracy = 0.0\n",
    "for epoch in range(1,model_config.num_epochs+1):\n",
    "    print(f\"Epoch: ({epoch}/{model_config.num_epochs})\")\n",
    "\n",
    "    training_correct, training_loss, _ = train(data_loader = train_loader_pre_normalize, model=model_q5, criterion=criterion, optimizer=optimizer)\n",
    "    training_loss = training_loss/num_batches\n",
    "    training_accuracy = training_correct/num_samples\n",
    "    print(f\"Training Accuracy: {training_accuracy * 100:.2f}%, Training Loss: {training_loss}\")\n",
    "\n",
    "    validation_correct, validation_loss = evaluate(data_loader = train_loader_pre_normalize, model=model_q5, criterion=criterion)\n",
    "    validation_loss = validation_loss/num_batches\n",
    "    validation_accuracy = validation_correct/num_samples\n",
    "    print(f\"Validation Accuracy: {validation_accuracy * 100:.2f}%, Validation Loss: {validation_loss}\")\n",
    "\n",
    "    test_correct, test_loss = evaluate(data_loader = test_loader_pre_normalize, model=model_q5, criterion=criterion)\n",
    "    test_loss = test_loss/len(test_loader_pre_normalize)\n",
    "    test_accuracy = test_correct/len(test_loader_pre_normalize.dataset)\n",
    "    print(f\"Test Accuracy: {test_accuracy * 100:.2f}%, Test Loss: {test_loss}\")\n",
    "    \n",
    "    if test_accuracy > best_accuracy:\n",
    "        best_accuracy = test_accuracy\n",
    "        torch.save(model_q5.state_dict(), \"model_q5.pt\")\n",
    "\n",
    "print(f\"\\n\\nBest Test Accuracy: {best_accuracy * 100:.2f}%\")"
   ]
  },
  {
   "cell_type": "markdown",
   "metadata": {},
   "source": [
    "<span style=\"color:blue\">How does the performance (test accuracy) of the network compare with the cases with dropout alone and with batch normalization alone?</span>"
   ]
  },
  {
   "cell_type": "markdown",
   "metadata": {},
   "source": [
    "|  | Test Accuracy (%) |\n",
    "| --------------- | --------------- |\n",
    "| Dropout and batch norm | 99.22|\n",
    "| Dropout | 99.19|\n",
    "| Standard Normalization | 99.07 |\n",
    "| Batch Normalization | 99.07 | \n",
    "\n",
    "*Performance using both dropout and batch norm beats all other choices.*"
   ]
  },
  {
   "cell_type": "markdown",
   "metadata": {},
   "source": [
    "## Problem 2\n",
    "### Question 1"
   ]
  },
  {
   "cell_type": "markdown",
   "metadata": {},
   "source": [
    "> Define the MiniGoogLeNet architecture, using Yuanzhe Liu's [implementation](https://github.com/ggflow123/MiniGoogLeNet-PyTorch/blob/main/MiniGoogLeNet.ipynb)"
   ]
  },
  {
   "cell_type": "code",
   "execution_count": 14,
   "metadata": {},
   "outputs": [],
   "source": [
    "class ConvModule(nn.Module):\n",
    "    def __init__(self, in_channels: int, out_channels: int, kernel_size, stride, padding='same'):\n",
    "        super(ConvModule, self).__init__()\n",
    "        self.conv2d = nn.Conv2d(\n",
    "            in_channels, out_channels, kernel_size, stride=stride, padding=padding)\n",
    "\n",
    "        self.batchnorm = nn.BatchNorm2d(out_channels)\n",
    "        self.relu = nn.ReLU()\n",
    "  \n",
    "    def forward(self, x):\n",
    "        x = self.conv2d(x)\n",
    "        x = self.batchnorm(x)\n",
    "        x = self.relu(x)\n",
    "\n",
    "        return x\n",
    "\n",
    "class InceptionModule(nn.Module):\n",
    "    def __init__(self, in_channels, ch1x1, ch3x3):\n",
    "        super(InceptionModule, self).__init__()\n",
    "\n",
    "        self.conv1x1 = ConvModule(in_channels, ch1x1, (1, 1), 1)\n",
    "        self.conv3x3 = ConvModule(in_channels, ch3x3, (3, 3), 1)\n",
    "\n",
    "    def forward(self, x):\n",
    "        out1 = self.conv1x1(x)\n",
    "        out2 = self.conv3x3(x)\n",
    "        x = torch.cat((out1, out2), 1)\n",
    "        return x\n",
    "\n",
    "class DownsampleModule(nn.Module):\n",
    "    def __init__(self, in_channels, out_channels):\n",
    "        super(DownsampleModule, self).__init__()\n",
    "\n",
    "        self.conv3x3 = ConvModule(in_channels, out_channels, (3, 3), (2, 2), padding='valid')\n",
    "        self.maxpool = nn.MaxPool2d(kernel_size=3, stride=2)\n",
    "\n",
    "    def forward(self, x):\n",
    "        out1 = self.conv3x3(x)\n",
    "        out2 = self.maxpool(x)\n",
    "        x = torch.cat((out1, out2), 1)\n",
    "        return x\n",
    "    \n",
    "\n",
    "class MiniGoogLeNet(nn.Module):\n",
    "    def __init__(self, classes, input_channels):\n",
    "        super(MiniGoogLeNet, self).__init__()\n",
    "\n",
    "        self.conv1 = ConvModule(input_channels, 96, kernel_size=(3, 3), stride=1)\n",
    "        self.inception1 = InceptionModule(96, 32, 32)\n",
    "        self.inception2 = InceptionModule(32+32, 32, 48)\n",
    "        self.downsample1 = DownsampleModule(32+48, 80)\n",
    "\n",
    "        self.inception3 = InceptionModule(80+80, 112, 48)\n",
    "        self.inception4 = InceptionModule(112+48, 96, 64)\n",
    "        self.inception5 = InceptionModule(96+64, 80, 80)\n",
    "        self.inception6 = InceptionModule(80+80, 48, 96)\n",
    "        self.downsample2 = DownsampleModule(48+96, 96)\n",
    "\n",
    "        self.inception7 = InceptionModule(96+96, 176, 160)\n",
    "        self.inception8 = InceptionModule(176+160, 176, 160)\n",
    "        self.avgpool2d = nn.AvgPool2d(kernel_size=7)\n",
    "        self.dropout = nn.Dropout2d(0.5)\n",
    "\n",
    "        self.fc = nn.Linear(240, classes)\n",
    "\n",
    "    def forward(self, x):\n",
    "        x = self.conv1(x)\n",
    "        x = self.inception1(x)\n",
    "        x = self.inception2(x)\n",
    "        x = self.downsample1(x)\n",
    "\n",
    "        x = self.inception3(x)\n",
    "        x = self.inception4(x)\n",
    "        x = self.inception5(x)\n",
    "        x = self.inception6(x)\n",
    "        x = self.downsample2(x)\n",
    "\n",
    "        x = self.avgpool2d(x)\n",
    "        x = self.dropout(x)\n",
    "\n",
    "        x = torch.flatten(x, 1)\n",
    "        x = self.fc(x)\n",
    "        return x"
   ]
  },
  {
   "cell_type": "markdown",
   "metadata": {},
   "source": [
    "> Create data loaders for the Fashion MNIST dataset with batch size = 64"
   ]
  },
  {
   "cell_type": "code",
   "execution_count": 15,
   "metadata": {},
   "outputs": [],
   "source": [
    "batchSize = 64\n",
    "\n",
    "transformations = transforms.Compose([transforms.Resize((32, 32)),\n",
    "                                transforms.ToTensor(),\n",
    "                               ])\n",
    "\n",
    "trainset = datasets.FashionMNIST(root='./data', train=True, download=True, transform=transformations)\n",
    "testset = datasets.FashionMNIST(root='./data', train=False, download=True, transform=transformations)\n",
    "\n",
    "trainloader = torch.utils.data.DataLoader(trainset, batch_size=batchSize, shuffle=True)\n",
    "testloader = torch.utils.data.DataLoader(testset, batch_size=batchSize, shuffle=False)"
   ]
  },
  {
   "cell_type": "markdown",
   "metadata": {},
   "source": [
    "<span style=\"color:blue\">Train MiniGoogleNet model on Fashion MNIST for 5 epochs, for 10 candidate learning rates</span>"
   ]
  },
  {
   "cell_type": "code",
   "execution_count": 17,
   "metadata": {
    "scrolled": false
   },
   "outputs": [
    {
     "name": "stdout",
     "output_type": "stream",
     "text": [
      "Learning Rate: 1e-09\n",
      "Epoch: 1/5\n"
     ]
    },
    {
     "name": "stderr",
     "output_type": "stream",
     "text": [
      "938it [00:28, 32.99it/s]\n"
     ]
    },
    {
     "name": "stdout",
     "output_type": "stream",
     "text": [
      "Accuracy: 9.71%, Loss: 2.6025469104872583\n",
      "Epoch: 2/5\n"
     ]
    },
    {
     "name": "stderr",
     "output_type": "stream",
     "text": [
      "938it [00:15, 61.40it/s]\n"
     ]
    },
    {
     "name": "stdout",
     "output_type": "stream",
     "text": [
      "Accuracy: 10.01%, Loss: 2.5962826829475127\n",
      "Epoch: 3/5\n"
     ]
    },
    {
     "name": "stderr",
     "output_type": "stream",
     "text": [
      "938it [00:15, 61.55it/s]\n"
     ]
    },
    {
     "name": "stdout",
     "output_type": "stream",
     "text": [
      "Accuracy: 9.69%, Loss: 2.595870749020119\n",
      "Epoch: 4/5\n"
     ]
    },
    {
     "name": "stderr",
     "output_type": "stream",
     "text": [
      "938it [00:15, 61.86it/s]\n"
     ]
    },
    {
     "name": "stdout",
     "output_type": "stream",
     "text": [
      "Accuracy: 9.94%, Loss: 2.59626322921151\n",
      "Epoch: 5/5\n"
     ]
    },
    {
     "name": "stderr",
     "output_type": "stream",
     "text": [
      "938it [00:15, 61.56it/s]\n"
     ]
    },
    {
     "name": "stdout",
     "output_type": "stream",
     "text": [
      "Accuracy: 9.66%, Loss: 2.596948854450478\n",
      "Learning Rate: 1e-08\n",
      "Epoch: 1/5\n"
     ]
    },
    {
     "name": "stderr",
     "output_type": "stream",
     "text": [
      "938it [00:15, 61.78it/s]\n"
     ]
    },
    {
     "name": "stdout",
     "output_type": "stream",
     "text": [
      "Accuracy: 11.30%, Loss: 2.65320420976895\n",
      "Epoch: 2/5\n"
     ]
    },
    {
     "name": "stderr",
     "output_type": "stream",
     "text": [
      "938it [00:15, 61.58it/s]\n"
     ]
    },
    {
     "name": "stdout",
     "output_type": "stream",
     "text": [
      "Accuracy: 11.19%, Loss: 2.651765913088947\n",
      "Epoch: 3/5\n"
     ]
    },
    {
     "name": "stderr",
     "output_type": "stream",
     "text": [
      "938it [00:15, 61.86it/s]\n"
     ]
    },
    {
     "name": "stdout",
     "output_type": "stream",
     "text": [
      "Accuracy: 11.29%, Loss: 2.65548866923684\n",
      "Epoch: 4/5\n"
     ]
    },
    {
     "name": "stderr",
     "output_type": "stream",
     "text": [
      "938it [00:15, 61.56it/s]\n"
     ]
    },
    {
     "name": "stdout",
     "output_type": "stream",
     "text": [
      "Accuracy: 11.42%, Loss: 2.6465080302915593\n",
      "Epoch: 5/5\n"
     ]
    },
    {
     "name": "stderr",
     "output_type": "stream",
     "text": [
      "938it [00:15, 61.45it/s]\n"
     ]
    },
    {
     "name": "stdout",
     "output_type": "stream",
     "text": [
      "Accuracy: 11.45%, Loss: 2.645583294093736\n",
      "Learning Rate: 1e-07\n",
      "Epoch: 1/5\n"
     ]
    },
    {
     "name": "stderr",
     "output_type": "stream",
     "text": [
      "938it [00:15, 61.66it/s]\n"
     ]
    },
    {
     "name": "stdout",
     "output_type": "stream",
     "text": [
      "Accuracy: 9.63%, Loss: 2.572595228010149\n",
      "Epoch: 2/5\n"
     ]
    },
    {
     "name": "stderr",
     "output_type": "stream",
     "text": [
      "938it [00:15, 61.58it/s]\n"
     ]
    },
    {
     "name": "stdout",
     "output_type": "stream",
     "text": [
      "Accuracy: 9.71%, Loss: 2.555258371936741\n",
      "Epoch: 3/5\n"
     ]
    },
    {
     "name": "stderr",
     "output_type": "stream",
     "text": [
      "938it [00:15, 61.80it/s]\n"
     ]
    },
    {
     "name": "stdout",
     "output_type": "stream",
     "text": [
      "Accuracy: 10.16%, Loss: 2.5478400810440975\n",
      "Epoch: 4/5\n"
     ]
    },
    {
     "name": "stderr",
     "output_type": "stream",
     "text": [
      "938it [00:15, 61.48it/s]\n"
     ]
    },
    {
     "name": "stdout",
     "output_type": "stream",
     "text": [
      "Accuracy: 10.28%, Loss: 2.5332966824330247\n",
      "Epoch: 5/5\n"
     ]
    },
    {
     "name": "stderr",
     "output_type": "stream",
     "text": [
      "938it [00:15, 61.71it/s]\n"
     ]
    },
    {
     "name": "stdout",
     "output_type": "stream",
     "text": [
      "Accuracy: 10.45%, Loss: 2.5221794787754637\n",
      "Learning Rate: 1e-06\n",
      "Epoch: 1/5\n"
     ]
    },
    {
     "name": "stderr",
     "output_type": "stream",
     "text": [
      "938it [00:15, 61.65it/s]\n"
     ]
    },
    {
     "name": "stdout",
     "output_type": "stream",
     "text": [
      "Accuracy: 11.16%, Loss: 2.526644197100007\n",
      "Epoch: 2/5\n"
     ]
    },
    {
     "name": "stderr",
     "output_type": "stream",
     "text": [
      "938it [00:15, 61.85it/s]\n"
     ]
    },
    {
     "name": "stdout",
     "output_type": "stream",
     "text": [
      "Accuracy: 12.32%, Loss: 2.445014016460508\n",
      "Epoch: 3/5\n"
     ]
    },
    {
     "name": "stderr",
     "output_type": "stream",
     "text": [
      "938it [00:15, 61.82it/s]\n"
     ]
    },
    {
     "name": "stdout",
     "output_type": "stream",
     "text": [
      "Accuracy: 13.78%, Loss: 2.3736691833304953\n",
      "Epoch: 4/5\n"
     ]
    },
    {
     "name": "stderr",
     "output_type": "stream",
     "text": [
      "938it [00:15, 61.63it/s]\n"
     ]
    },
    {
     "name": "stdout",
     "output_type": "stream",
     "text": [
      "Accuracy: 15.37%, Loss: 2.316500107616758\n",
      "Epoch: 5/5\n"
     ]
    },
    {
     "name": "stderr",
     "output_type": "stream",
     "text": [
      "938it [00:15, 61.70it/s]\n"
     ]
    },
    {
     "name": "stdout",
     "output_type": "stream",
     "text": [
      "Accuracy: 16.63%, Loss: 2.2678837544882477\n",
      "Learning Rate: 1e-05\n",
      "Epoch: 1/5\n"
     ]
    },
    {
     "name": "stderr",
     "output_type": "stream",
     "text": [
      "938it [00:15, 61.60it/s]\n"
     ]
    },
    {
     "name": "stdout",
     "output_type": "stream",
     "text": [
      "Accuracy: 18.15%, Loss: 2.273366962795827\n",
      "Epoch: 2/5\n"
     ]
    },
    {
     "name": "stderr",
     "output_type": "stream",
     "text": [
      "938it [00:15, 61.77it/s]\n"
     ]
    },
    {
     "name": "stdout",
     "output_type": "stream",
     "text": [
      "Accuracy: 32.22%, Loss: 1.9506712586386625\n",
      "Epoch: 3/5\n"
     ]
    },
    {
     "name": "stderr",
     "output_type": "stream",
     "text": [
      "938it [00:15, 61.60it/s]\n"
     ]
    },
    {
     "name": "stdout",
     "output_type": "stream",
     "text": [
      "Accuracy: 39.96%, Loss: 1.752293337128564\n",
      "Epoch: 4/5\n"
     ]
    },
    {
     "name": "stderr",
     "output_type": "stream",
     "text": [
      "938it [00:15, 61.69it/s]\n"
     ]
    },
    {
     "name": "stdout",
     "output_type": "stream",
     "text": [
      "Accuracy: 44.79%, Loss: 1.6088721829690913\n",
      "Epoch: 5/5\n"
     ]
    },
    {
     "name": "stderr",
     "output_type": "stream",
     "text": [
      "938it [00:15, 61.83it/s]\n"
     ]
    },
    {
     "name": "stdout",
     "output_type": "stream",
     "text": [
      "Accuracy: 48.54%, Loss: 1.4999012251906811\n",
      "Learning Rate: 0.0001\n",
      "Epoch: 1/5\n"
     ]
    },
    {
     "name": "stderr",
     "output_type": "stream",
     "text": [
      "938it [00:15, 61.49it/s]\n"
     ]
    },
    {
     "name": "stdout",
     "output_type": "stream",
     "text": [
      "Accuracy: 46.16%, Loss: 1.5557100842756504\n",
      "Epoch: 2/5\n"
     ]
    },
    {
     "name": "stderr",
     "output_type": "stream",
     "text": [
      "938it [00:15, 61.89it/s]\n"
     ]
    },
    {
     "name": "stdout",
     "output_type": "stream",
     "text": [
      "Accuracy: 67.07%, Loss: 0.9921093081106255\n",
      "Epoch: 3/5\n"
     ]
    },
    {
     "name": "stderr",
     "output_type": "stream",
     "text": [
      "938it [00:15, 61.57it/s]\n"
     ]
    },
    {
     "name": "stdout",
     "output_type": "stream",
     "text": [
      "Accuracy: 73.42%, Loss: 0.7895449037745055\n",
      "Epoch: 4/5\n"
     ]
    },
    {
     "name": "stderr",
     "output_type": "stream",
     "text": [
      "938it [00:15, 61.55it/s]\n"
     ]
    },
    {
     "name": "stdout",
     "output_type": "stream",
     "text": [
      "Accuracy: 76.20%, Loss: 0.6867277070975253\n",
      "Epoch: 5/5\n"
     ]
    },
    {
     "name": "stderr",
     "output_type": "stream",
     "text": [
      "938it [00:15, 61.60it/s]\n"
     ]
    },
    {
     "name": "stdout",
     "output_type": "stream",
     "text": [
      "Accuracy: 78.11%, Loss: 0.6248980277001477\n",
      "Learning Rate: 0.001\n",
      "Epoch: 1/5\n"
     ]
    },
    {
     "name": "stderr",
     "output_type": "stream",
     "text": [
      "938it [00:15, 61.45it/s]\n"
     ]
    },
    {
     "name": "stdout",
     "output_type": "stream",
     "text": [
      "Accuracy: 71.91%, Loss: 0.8035595242593334\n",
      "Epoch: 2/5\n"
     ]
    },
    {
     "name": "stderr",
     "output_type": "stream",
     "text": [
      "938it [00:15, 61.86it/s]\n"
     ]
    },
    {
     "name": "stdout",
     "output_type": "stream",
     "text": [
      "Accuracy: 84.46%, Loss: 0.4437459955242143\n",
      "Epoch: 3/5\n"
     ]
    },
    {
     "name": "stderr",
     "output_type": "stream",
     "text": [
      "938it [00:15, 61.66it/s]\n"
     ]
    },
    {
     "name": "stdout",
     "output_type": "stream",
     "text": [
      "Accuracy: 87.09%, Loss: 0.37111392636288965\n",
      "Epoch: 4/5\n"
     ]
    },
    {
     "name": "stderr",
     "output_type": "stream",
     "text": [
      "938it [00:15, 61.57it/s]\n"
     ]
    },
    {
     "name": "stdout",
     "output_type": "stream",
     "text": [
      "Accuracy: 88.65%, Loss: 0.32406197495456696\n",
      "Epoch: 5/5\n"
     ]
    },
    {
     "name": "stderr",
     "output_type": "stream",
     "text": [
      "938it [00:15, 61.55it/s]\n"
     ]
    },
    {
     "name": "stdout",
     "output_type": "stream",
     "text": [
      "Accuracy: 89.60%, Loss: 0.2961281360641344\n",
      "Learning Rate: 0.01\n",
      "Epoch: 1/5\n"
     ]
    },
    {
     "name": "stderr",
     "output_type": "stream",
     "text": [
      "938it [00:15, 61.69it/s]\n"
     ]
    },
    {
     "name": "stdout",
     "output_type": "stream",
     "text": [
      "Accuracy: 79.66%, Loss: 0.5577627612647217\n",
      "Epoch: 2/5\n"
     ]
    },
    {
     "name": "stderr",
     "output_type": "stream",
     "text": [
      "938it [00:15, 61.46it/s]\n"
     ]
    },
    {
     "name": "stdout",
     "output_type": "stream",
     "text": [
      "Accuracy: 87.83%, Loss: 0.34317722532953787\n",
      "Epoch: 3/5\n"
     ]
    },
    {
     "name": "stderr",
     "output_type": "stream",
     "text": [
      "938it [00:15, 61.76it/s]\n"
     ]
    },
    {
     "name": "stdout",
     "output_type": "stream",
     "text": [
      "Accuracy: 89.62%, Loss: 0.2919402660242022\n",
      "Epoch: 4/5\n"
     ]
    },
    {
     "name": "stderr",
     "output_type": "stream",
     "text": [
      "938it [00:15, 61.69it/s]\n"
     ]
    },
    {
     "name": "stdout",
     "output_type": "stream",
     "text": [
      "Accuracy: 90.72%, Loss: 0.25899417818323384\n",
      "Epoch: 5/5\n"
     ]
    },
    {
     "name": "stderr",
     "output_type": "stream",
     "text": [
      "938it [00:15, 61.59it/s]\n"
     ]
    },
    {
     "name": "stdout",
     "output_type": "stream",
     "text": [
      "Accuracy: 91.52%, Loss: 0.237293399524873\n",
      "Learning Rate: 0.1\n",
      "Epoch: 1/5\n"
     ]
    },
    {
     "name": "stderr",
     "output_type": "stream",
     "text": [
      "938it [00:15, 61.67it/s]\n"
     ]
    },
    {
     "name": "stdout",
     "output_type": "stream",
     "text": [
      "Accuracy: 76.95%, Loss: 0.6373370362878609\n",
      "Epoch: 2/5\n"
     ]
    },
    {
     "name": "stderr",
     "output_type": "stream",
     "text": [
      "938it [00:15, 61.56it/s]\n"
     ]
    },
    {
     "name": "stdout",
     "output_type": "stream",
     "text": [
      "Accuracy: 86.62%, Loss: 0.3746704700182496\n",
      "Epoch: 3/5\n"
     ]
    },
    {
     "name": "stderr",
     "output_type": "stream",
     "text": [
      "938it [00:15, 61.50it/s]\n"
     ]
    },
    {
     "name": "stdout",
     "output_type": "stream",
     "text": [
      "Accuracy: 88.81%, Loss: 0.312426071606084\n",
      "Epoch: 4/5\n"
     ]
    },
    {
     "name": "stderr",
     "output_type": "stream",
     "text": [
      "938it [00:15, 61.57it/s]\n"
     ]
    },
    {
     "name": "stdout",
     "output_type": "stream",
     "text": [
      "Accuracy: 90.05%, Loss: 0.283761830551665\n",
      "Epoch: 5/5\n"
     ]
    },
    {
     "name": "stderr",
     "output_type": "stream",
     "text": [
      "938it [00:15, 61.67it/s]\n"
     ]
    },
    {
     "name": "stdout",
     "output_type": "stream",
     "text": [
      "Accuracy: 90.59%, Loss: 0.26051428041923275\n",
      "Learning Rate: 1\n",
      "Epoch: 1/5\n"
     ]
    },
    {
     "name": "stderr",
     "output_type": "stream",
     "text": [
      "938it [00:15, 61.57it/s]\n"
     ]
    },
    {
     "name": "stdout",
     "output_type": "stream",
     "text": [
      "Accuracy: 32.16%, Loss: 1.7738440398976747\n",
      "Epoch: 2/5\n"
     ]
    },
    {
     "name": "stderr",
     "output_type": "stream",
     "text": [
      "938it [00:15, 61.65it/s]\n"
     ]
    },
    {
     "name": "stdout",
     "output_type": "stream",
     "text": [
      "Accuracy: 50.46%, Loss: 1.270680497323018\n",
      "Epoch: 3/5\n"
     ]
    },
    {
     "name": "stderr",
     "output_type": "stream",
     "text": [
      "938it [00:15, 61.64it/s]\n"
     ]
    },
    {
     "name": "stdout",
     "output_type": "stream",
     "text": [
      "Accuracy: 64.18%, Loss: 0.9893680591700174\n",
      "Epoch: 4/5\n"
     ]
    },
    {
     "name": "stderr",
     "output_type": "stream",
     "text": [
      "938it [00:15, 61.74it/s]\n"
     ]
    },
    {
     "name": "stdout",
     "output_type": "stream",
     "text": [
      "Accuracy: 69.99%, Loss: 0.8520805603786826\n",
      "Epoch: 5/5\n"
     ]
    },
    {
     "name": "stderr",
     "output_type": "stream",
     "text": [
      "938it [00:15, 61.63it/s]"
     ]
    },
    {
     "name": "stdout",
     "output_type": "stream",
     "text": [
      "Accuracy: 71.89%, Loss: 0.8134413766644911\n"
     ]
    },
    {
     "name": "stderr",
     "output_type": "stream",
     "text": [
      "\n"
     ]
    }
   ],
   "source": [
    "epochs = 5\n",
    "learning_rates = [1e-9, 1e-8, 1e-7, 1e-6, 1e-5, 1e-4, 1e-3, 1e-2, 1e-1, 1]\n",
    "\n",
    "lr_to_loss = {}\n",
    "torch.cuda.empty_cache()\n",
    "for lr in learning_rates:\n",
    "    print(f\"Learning Rate: {lr}\")\n",
    "    model = MiniGoogLeNet(classes=10, input_channels=1)\n",
    "    model.to(device)\n",
    "    criterion = nn.CrossEntropyLoss()\n",
    "    optimizer = optim.SGD(model.parameters(), lr=lr, momentum=0.9, weight_decay=0.0001)\n",
    "\n",
    "    avg_training_loss = 0.0\n",
    "    for epoch in range(epochs):\n",
    "        print(f\"Epoch: {epoch+1}/{epochs}\")\n",
    "        correct, loss, _ = train(trainloader, model, criterion, optimizer)\n",
    "        accuracy = correct / len(trainloader.dataset)\n",
    "        loss = loss / len(trainloader)\n",
    "        print(f\"Accuracy: {accuracy*100:.2f}%, Loss: {loss}\")\n",
    "        avg_training_loss += loss\n",
    "    avg_training_loss /=epochs\n",
    "    lr_to_loss[lr] = avg_training_loss"
   ]
  },
  {
   "cell_type": "markdown",
   "metadata": {},
   "source": [
    "<span style=\"color:blue\">Plot the training loss as a function of the learning rate</span>"
   ]
  },
  {
   "cell_type": "code",
   "execution_count": 18,
   "metadata": {
    "scrolled": true
   },
   "outputs": [
    {
     "data": {
      "image/png": "[encoded data removed]",
      "text/plain": [
       "<Figure size 432x288 with 1 Axes>"
      ]
     },
     "metadata": {
      "needs_background": "light"
     },
     "output_type": "display_data"
    }
   ],
   "source": [
    "def plot_losses(losses):\n",
    "    plt.plot(list(losses.keys()), list(losses.values()))\n",
    "    plt.xscale('log')\n",
    "    plt.xlabel('Learning Rate')\n",
    "    plt.ylabel('Loss Value')\n",
    "    plt.title('Loss vs Learning Rate')\n",
    "    plt.show()\n",
    "\n",
    "plot_losses(lr_to_loss)"
   ]
  },
  {
   "cell_type": "markdown",
   "metadata": {},
   "source": [
    "<span style=\"color:blue\">From that figure identify the values of lr_min and lr_max.</span> \n",
    "<br /><br />\n",
    "*We identify lr_min and lr_max as 7*1e-5 and 1e-2 respectively. These min and max values best capture the loss slope in the graph.*"
   ]
  },
  {
   "cell_type": "markdown",
   "metadata": {},
   "source": [
    "## Problem 2\n",
    "### Question 2\n",
    "<span style=\"color:blue\"> Use the cyclical learning rate policy (with exponential decay) and train your network using batch size\n",
    "64 and lrmin and lrmax values</span>"
   ]
  },
  {
   "cell_type": "code",
   "execution_count": 19,
   "metadata": {
    "scrolled": false
   },
   "outputs": [
    {
     "name": "stdout",
     "output_type": "stream",
     "text": [
      "Epoch: 1/30\n"
     ]
    },
    {
     "name": "stderr",
     "output_type": "stream",
     "text": [
      "938it [00:15, 61.75it/s]\n"
     ]
    },
    {
     "name": "stdout",
     "output_type": "stream",
     "text": [
      "Epoch: 2/30\n"
     ]
    },
    {
     "name": "stderr",
     "output_type": "stream",
     "text": [
      "938it [00:15, 61.72it/s]\n"
     ]
    },
    {
     "name": "stdout",
     "output_type": "stream",
     "text": [
      "Epoch: 3/30\n"
     ]
    },
    {
     "name": "stderr",
     "output_type": "stream",
     "text": [
      "938it [00:15, 61.65it/s]\n"
     ]
    },
    {
     "name": "stdout",
     "output_type": "stream",
     "text": [
      "Epoch: 4/30\n"
     ]
    },
    {
     "name": "stderr",
     "output_type": "stream",
     "text": [
      "938it [00:15, 61.90it/s]\n"
     ]
    },
    {
     "name": "stdout",
     "output_type": "stream",
     "text": [
      "Epoch: 5/30\n"
     ]
    },
    {
     "name": "stderr",
     "output_type": "stream",
     "text": [
      "938it [00:15, 61.69it/s]\n"
     ]
    },
    {
     "name": "stdout",
     "output_type": "stream",
     "text": [
      "Epoch: 6/30\n"
     ]
    },
    {
     "name": "stderr",
     "output_type": "stream",
     "text": [
      "938it [00:15, 61.57it/s]\n"
     ]
    },
    {
     "name": "stdout",
     "output_type": "stream",
     "text": [
      "Epoch: 7/30\n"
     ]
    },
    {
     "name": "stderr",
     "output_type": "stream",
     "text": [
      "938it [00:15, 61.46it/s]\n"
     ]
    },
    {
     "name": "stdout",
     "output_type": "stream",
     "text": [
      "Epoch: 8/30\n"
     ]
    },
    {
     "name": "stderr",
     "output_type": "stream",
     "text": [
      "938it [00:15, 61.78it/s]\n"
     ]
    },
    {
     "name": "stdout",
     "output_type": "stream",
     "text": [
      "Epoch: 9/30\n"
     ]
    },
    {
     "name": "stderr",
     "output_type": "stream",
     "text": [
      "938it [00:15, 61.53it/s]\n"
     ]
    },
    {
     "name": "stdout",
     "output_type": "stream",
     "text": [
      "Epoch: 10/30\n"
     ]
    },
    {
     "name": "stderr",
     "output_type": "stream",
     "text": [
      "938it [00:15, 61.81it/s]\n"
     ]
    },
    {
     "name": "stdout",
     "output_type": "stream",
     "text": [
      "Epoch: 11/30\n"
     ]
    },
    {
     "name": "stderr",
     "output_type": "stream",
     "text": [
      "938it [00:15, 61.80it/s]\n"
     ]
    },
    {
     "name": "stdout",
     "output_type": "stream",
     "text": [
      "Epoch: 12/30\n"
     ]
    },
    {
     "name": "stderr",
     "output_type": "stream",
     "text": [
      "938it [00:15, 61.80it/s]\n"
     ]
    },
    {
     "name": "stdout",
     "output_type": "stream",
     "text": [
      "Epoch: 13/30\n"
     ]
    },
    {
     "name": "stderr",
     "output_type": "stream",
     "text": [
      "938it [00:15, 61.54it/s]\n"
     ]
    },
    {
     "name": "stdout",
     "output_type": "stream",
     "text": [
      "Epoch: 14/30\n"
     ]
    },
    {
     "name": "stderr",
     "output_type": "stream",
     "text": [
      "938it [00:15, 61.53it/s]\n"
     ]
    },
    {
     "name": "stdout",
     "output_type": "stream",
     "text": [
      "Epoch: 15/30\n"
     ]
    },
    {
     "name": "stderr",
     "output_type": "stream",
     "text": [
      "938it [00:15, 61.56it/s]\n"
     ]
    },
    {
     "name": "stdout",
     "output_type": "stream",
     "text": [
      "Epoch: 16/30\n"
     ]
    },
    {
     "name": "stderr",
     "output_type": "stream",
     "text": [
      "938it [00:15, 61.67it/s]\n"
     ]
    },
    {
     "name": "stdout",
     "output_type": "stream",
     "text": [
      "Epoch: 17/30\n"
     ]
    },
    {
     "name": "stderr",
     "output_type": "stream",
     "text": [
      "938it [00:15, 61.73it/s]\n"
     ]
    },
    {
     "name": "stdout",
     "output_type": "stream",
     "text": [
      "Epoch: 18/30\n"
     ]
    },
    {
     "name": "stderr",
     "output_type": "stream",
     "text": [
      "938it [00:15, 61.99it/s]\n"
     ]
    },
    {
     "name": "stdout",
     "output_type": "stream",
     "text": [
      "Epoch: 19/30\n"
     ]
    },
    {
     "name": "stderr",
     "output_type": "stream",
     "text": [
      "938it [00:15, 61.86it/s]\n"
     ]
    },
    {
     "name": "stdout",
     "output_type": "stream",
     "text": [
      "Epoch: 20/30\n"
     ]
    },
    {
     "name": "stderr",
     "output_type": "stream",
     "text": [
      "938it [00:15, 61.65it/s]\n"
     ]
    },
    {
     "name": "stdout",
     "output_type": "stream",
     "text": [
      "Epoch: 21/30\n"
     ]
    },
    {
     "name": "stderr",
     "output_type": "stream",
     "text": [
      "938it [00:15, 61.65it/s]\n"
     ]
    },
    {
     "name": "stdout",
     "output_type": "stream",
     "text": [
      "Epoch: 22/30\n"
     ]
    },
    {
     "name": "stderr",
     "output_type": "stream",
     "text": [
      "938it [00:15, 61.63it/s]\n"
     ]
    },
    {
     "name": "stdout",
     "output_type": "stream",
     "text": [
      "Epoch: 23/30\n"
     ]
    },
    {
     "name": "stderr",
     "output_type": "stream",
     "text": [
      "938it [00:15, 61.98it/s]\n"
     ]
    },
    {
     "name": "stdout",
     "output_type": "stream",
     "text": [
      "Epoch: 24/30\n"
     ]
    },
    {
     "name": "stderr",
     "output_type": "stream",
     "text": [
      "938it [00:15, 61.95it/s]\n"
     ]
    },
    {
     "name": "stdout",
     "output_type": "stream",
     "text": [
      "Epoch: 25/30\n"
     ]
    },
    {
     "name": "stderr",
     "output_type": "stream",
     "text": [
      "938it [00:15, 61.81it/s]\n"
     ]
    },
    {
     "name": "stdout",
     "output_type": "stream",
     "text": [
      "Epoch: 26/30\n"
     ]
    },
    {
     "name": "stderr",
     "output_type": "stream",
     "text": [
      "938it [00:15, 61.65it/s]\n"
     ]
    },
    {
     "name": "stdout",
     "output_type": "stream",
     "text": [
      "Epoch: 27/30\n"
     ]
    },
    {
     "name": "stderr",
     "output_type": "stream",
     "text": [
      "938it [00:15, 61.89it/s]\n"
     ]
    },
    {
     "name": "stdout",
     "output_type": "stream",
     "text": [
      "Epoch: 28/30\n"
     ]
    },
    {
     "name": "stderr",
     "output_type": "stream",
     "text": [
      "938it [00:15, 61.56it/s]\n"
     ]
    },
    {
     "name": "stdout",
     "output_type": "stream",
     "text": [
      "Epoch: 29/30\n"
     ]
    },
    {
     "name": "stderr",
     "output_type": "stream",
     "text": [
      "938it [00:15, 61.77it/s]\n"
     ]
    },
    {
     "name": "stdout",
     "output_type": "stream",
     "text": [
      "Epoch: 30/30\n"
     ]
    },
    {
     "name": "stderr",
     "output_type": "stream",
     "text": [
      "938it [00:15, 61.86it/s]\n"
     ]
    }
   ],
   "source": [
    "lr_min = 7*1e-5\n",
    "lr_max = 1e-2\n",
    "epochs = 30\n",
    "step_size = (len(trainset)/batchSize) // 2\n",
    "\n",
    "model = MiniGoogLeNet(classes=10, input_channels=1).to(device)\n",
    "criterion = nn.CrossEntropyLoss()\n",
    "optimizer = optim.SGD(model.parameters(), lr=lr_min, momentum=0.9)\n",
    "scheduler = optim.lr_scheduler.CyclicLR(optimizer, base_lr=lr_min, max_lr=lr_max, step_size_up=step_size, step_size_down=step_size, gamma=0.9999, mode=\"exp_range\", cycle_momentum=False)\n",
    "lr_tracker = {}\n",
    "\n",
    "train_loss_history = []\n",
    "train_acc_history = []\n",
    "val_loss_history = []\n",
    "val_acc_history = []\n",
    "\n",
    "for epoch in range(epochs):\n",
    "    print(f\"Epoch: {epoch+1}/{epochs}\")\n",
    "    correct, loss, rate_tracker = train(data_loader=trainloader, model=model, criterion=criterion, optimizer=optimizer, scheduler=scheduler)\n",
    "    accuracy = correct / len(trainloader.dataset)\n",
    "    loss = loss / len(trainloader)\n",
    "    train_acc_history.append(accuracy)\n",
    "    train_loss_history.append(loss)\n",
    "    for key in rate_tracker.keys():\n",
    "        lr_tracker[(epoch,key)] = rate_tracker[key]\n",
    "\n",
    "    correct, loss = evaluate(data_loader = testloader, model=model, criterion=criterion)\n",
    "    validation_accuracy = correct / len(testloader.dataset)\n",
    "    validation_loss = loss / len(testloader)\n",
    "    val_acc_history.append(validation_accuracy)\n",
    "    val_loss_history.append(validation_loss)\n",
    "    "
   ]
  },
  {
   "cell_type": "markdown",
   "metadata": {},
   "source": [
    "<span style=\"color:blue\">Plot train/validation loss and accuracy curve</span>"
   ]
  },
  {
   "cell_type": "code",
   "execution_count": 20,
   "metadata": {},
   "outputs": [
    {
     "data": {
      "image/png": "[encoded data removed]",
      "text/plain": [
       "<Figure size 1152x648 with 1 Axes>"
      ]
     },
     "metadata": {
      "needs_background": "light"
     },
     "output_type": "display_data"
    }
   ],
   "source": [
    "fig, ax = plt.subplots(figsize=(16,9))\n",
    "\n",
    "plt.plot(train_loss_history, label='Train Loss')\n",
    "plt.plot(val_loss_history, label='Val Loss')\n",
    "plt.plot(train_acc_history, label='Train Acc')  \n",
    "plt.plot(val_acc_history, label='Val Acc')\n",
    "plt.legend()\n",
    "\n",
    "yticks = np.linspace(0, 1.1, num=30)\n",
    "ax.set_yticks(yticks)\n",
    "plt.show()    "
   ]
  },
  {
   "cell_type": "markdown",
   "metadata": {},
   "source": [
    "> We also plot the learning rate over batches to ensure that a sensible triangular policy with exponential decay was followed."
   ]
  },
  {
   "cell_type": "code",
   "execution_count": 21,
   "metadata": {},
   "outputs": [
    {
     "data": {
      "image/png": "[encoded data removed]",
      "text/plain": [
       "<Figure size 1152x648 with 1 Axes>"
      ]
     },
     "metadata": {
      "needs_background": "light"
     },
     "output_type": "display_data"
    }
   ],
   "source": [
    "fig, ax = plt.subplots(figsize=(16,9))\n",
    "plt.plot(range(len(lr_tracker)), lr_tracker.values())\n",
    "plt.xlabel('Batches')\n",
    "plt.ylabel('Learning rate')\n",
    "plt.show()"
   ]
  },
  {
   "cell_type": "markdown",
   "metadata": {},
   "source": [
    "## Problem 2\n",
    "### Question 3\n",
    "<span style=\"color:blue\"> Fix learning rate to lrmax and train your network starting with batch size 32 and incrementally going up to 16384</span>"
   ]
  },
  {
   "cell_type": "code",
   "execution_count": 22,
   "metadata": {
    "scrolled": false
   },
   "outputs": [
    {
     "name": "stdout",
     "output_type": "stream",
     "text": [
      "Batch Size: 64\n",
      "Epoch: 1/10\n"
     ]
    },
    {
     "name": "stderr",
     "output_type": "stream",
     "text": [
      "938it [00:15, 61.51it/s]\n"
     ]
    },
    {
     "name": "stdout",
     "output_type": "stream",
     "text": [
      "Accuracy: 71.94%, Loss: 748.5780564844608\n",
      "Epoch: 2/10\n"
     ]
    },
    {
     "name": "stderr",
     "output_type": "stream",
     "text": [
      "938it [00:15, 61.44it/s]\n"
     ]
    },
    {
     "name": "stdout",
     "output_type": "stream",
     "text": [
      "Accuracy: 84.32%, Loss: 416.39217875897884\n",
      "Epoch: 3/10\n"
     ]
    },
    {
     "name": "stderr",
     "output_type": "stream",
     "text": [
      "938it [00:15, 61.48it/s]\n"
     ]
    },
    {
     "name": "stdout",
     "output_type": "stream",
     "text": [
      "Accuracy: 87.10%, Loss: 344.2504647374153\n",
      "Epoch: 4/10\n"
     ]
    },
    {
     "name": "stderr",
     "output_type": "stream",
     "text": [
      "938it [00:15, 61.69it/s]\n"
     ]
    },
    {
     "name": "stdout",
     "output_type": "stream",
     "text": [
      "Accuracy: 88.59%, Loss: 305.09863030165434\n",
      "Epoch: 5/10\n"
     ]
    },
    {
     "name": "stderr",
     "output_type": "stream",
     "text": [
      "938it [00:15, 61.85it/s]\n"
     ]
    },
    {
     "name": "stdout",
     "output_type": "stream",
     "text": [
      "Accuracy: 89.60%, Loss: 279.24126091599464\n",
      "Epoch: 6/10\n"
     ]
    },
    {
     "name": "stderr",
     "output_type": "stream",
     "text": [
      "938it [00:15, 61.89it/s]\n"
     ]
    },
    {
     "name": "stdout",
     "output_type": "stream",
     "text": [
      "Accuracy: 90.24%, Loss: 259.7822047472\n",
      "Epoch: 7/10\n"
     ]
    },
    {
     "name": "stderr",
     "output_type": "stream",
     "text": [
      "938it [00:15, 61.87it/s]\n"
     ]
    },
    {
     "name": "stdout",
     "output_type": "stream",
     "text": [
      "Accuracy: 90.92%, Loss: 241.7390864044428\n",
      "Epoch: 8/10\n"
     ]
    },
    {
     "name": "stderr",
     "output_type": "stream",
     "text": [
      "938it [00:15, 61.85it/s]\n"
     ]
    },
    {
     "name": "stdout",
     "output_type": "stream",
     "text": [
      "Accuracy: 91.45%, Loss: 229.23923230543733\n",
      "Epoch: 9/10\n"
     ]
    },
    {
     "name": "stderr",
     "output_type": "stream",
     "text": [
      "938it [00:15, 61.84it/s]\n"
     ]
    },
    {
     "name": "stdout",
     "output_type": "stream",
     "text": [
      "Accuracy: 91.93%, Loss: 216.33278835564852\n",
      "Epoch: 10/10\n"
     ]
    },
    {
     "name": "stderr",
     "output_type": "stream",
     "text": [
      "938it [00:15, 61.92it/s]\n"
     ]
    },
    {
     "name": "stdout",
     "output_type": "stream",
     "text": [
      "Accuracy: 92.21%, Loss: 208.34039226546884\n",
      "Batch Size: 128\n",
      "Epoch: 1/10\n"
     ]
    },
    {
     "name": "stderr",
     "output_type": "stream",
     "text": [
      "469it [00:16, 28.21it/s]\n"
     ]
    },
    {
     "name": "stdout",
     "output_type": "stream",
     "text": [
      "Accuracy: 65.93%, Loss: 466.57395973801613\n",
      "Epoch: 2/10\n"
     ]
    },
    {
     "name": "stderr",
     "output_type": "stream",
     "text": [
      "469it [00:16, 28.48it/s]\n"
     ]
    },
    {
     "name": "stdout",
     "output_type": "stream",
     "text": [
      "Accuracy: 81.13%, Loss: 250.72850078344345\n",
      "Epoch: 3/10\n"
     ]
    },
    {
     "name": "stderr",
     "output_type": "stream",
     "text": [
      "469it [00:16, 28.44it/s]\n"
     ]
    },
    {
     "name": "stdout",
     "output_type": "stream",
     "text": [
      "Accuracy: 84.64%, Loss: 204.79970413446426\n",
      "Epoch: 4/10\n"
     ]
    },
    {
     "name": "stderr",
     "output_type": "stream",
     "text": [
      "469it [00:16, 28.44it/s]\n"
     ]
    },
    {
     "name": "stdout",
     "output_type": "stream",
     "text": [
      "Accuracy: 86.59%, Loss: 179.07408536970615\n",
      "Epoch: 5/10\n"
     ]
    },
    {
     "name": "stderr",
     "output_type": "stream",
     "text": [
      "469it [00:16, 28.49it/s]\n"
     ]
    },
    {
     "name": "stdout",
     "output_type": "stream",
     "text": [
      "Accuracy: 88.01%, Loss: 161.75325867533684\n",
      "Epoch: 6/10\n"
     ]
    },
    {
     "name": "stderr",
     "output_type": "stream",
     "text": [
      "469it [00:16, 28.47it/s]\n"
     ]
    },
    {
     "name": "stdout",
     "output_type": "stream",
     "text": [
      "Accuracy: 89.02%, Loss: 148.66709192097187\n",
      "Epoch: 7/10\n"
     ]
    },
    {
     "name": "stderr",
     "output_type": "stream",
     "text": [
      "469it [00:16, 28.49it/s]\n"
     ]
    },
    {
     "name": "stdout",
     "output_type": "stream",
     "text": [
      "Accuracy: 89.65%, Loss: 138.89624394476414\n",
      "Epoch: 8/10\n"
     ]
    },
    {
     "name": "stderr",
     "output_type": "stream",
     "text": [
      "469it [00:16, 28.51it/s]\n"
     ]
    },
    {
     "name": "stdout",
     "output_type": "stream",
     "text": [
      "Accuracy: 90.23%, Loss: 130.0508160442114\n",
      "Epoch: 9/10\n"
     ]
    },
    {
     "name": "stderr",
     "output_type": "stream",
     "text": [
      "469it [00:16, 28.51it/s]\n"
     ]
    },
    {
     "name": "stdout",
     "output_type": "stream",
     "text": [
      "Accuracy: 90.69%, Loss: 125.17522965371609\n",
      "Epoch: 10/10\n"
     ]
    },
    {
     "name": "stderr",
     "output_type": "stream",
     "text": [
      "469it [00:16, 28.51it/s]\n"
     ]
    },
    {
     "name": "stdout",
     "output_type": "stream",
     "text": [
      "Accuracy: 91.25%, Loss: 118.23434920608997\n",
      "Batch Size: 256\n",
      "Epoch: 1/10\n"
     ]
    },
    {
     "name": "stderr",
     "output_type": "stream",
     "text": [
      "235it [00:16, 14.23it/s]\n"
     ]
    },
    {
     "name": "stdout",
     "output_type": "stream",
     "text": [
      "Accuracy: 57.31%, Loss: 291.1356640458107\n",
      "Epoch: 2/10\n"
     ]
    },
    {
     "name": "stderr",
     "output_type": "stream",
     "text": [
      "235it [00:16, 14.30it/s]\n"
     ]
    },
    {
     "name": "stdout",
     "output_type": "stream",
     "text": [
      "Accuracy: 76.34%, Loss: 160.98436987400055\n",
      "Epoch: 3/10\n"
     ]
    },
    {
     "name": "stderr",
     "output_type": "stream",
     "text": [
      "235it [00:16, 14.30it/s]\n"
     ]
    },
    {
     "name": "stdout",
     "output_type": "stream",
     "text": [
      "Accuracy: 80.13%, Loss: 131.3977796435356\n",
      "Epoch: 4/10\n"
     ]
    },
    {
     "name": "stderr",
     "output_type": "stream",
     "text": [
      "235it [00:16, 14.30it/s]\n"
     ]
    },
    {
     "name": "stdout",
     "output_type": "stream",
     "text": [
      "Accuracy: 83.10%, Loss: 112.8212902545929\n",
      "Epoch: 5/10\n"
     ]
    },
    {
     "name": "stderr",
     "output_type": "stream",
     "text": [
      "235it [00:16, 14.31it/s]\n"
     ]
    },
    {
     "name": "stdout",
     "output_type": "stream",
     "text": [
      "Accuracy: 85.23%, Loss: 99.54396307468414\n",
      "Epoch: 6/10\n"
     ]
    },
    {
     "name": "stderr",
     "output_type": "stream",
     "text": [
      "235it [00:16, 14.31it/s]\n"
     ]
    },
    {
     "name": "stdout",
     "output_type": "stream",
     "text": [
      "Accuracy: 86.56%, Loss: 90.58743068575859\n",
      "Epoch: 7/10\n"
     ]
    },
    {
     "name": "stderr",
     "output_type": "stream",
     "text": [
      "235it [00:16, 14.32it/s]\n"
     ]
    },
    {
     "name": "stdout",
     "output_type": "stream",
     "text": [
      "Accuracy: 87.44%, Loss: 84.96278017759323\n",
      "Epoch: 8/10\n"
     ]
    },
    {
     "name": "stderr",
     "output_type": "stream",
     "text": [
      "235it [00:16, 14.31it/s]\n"
     ]
    },
    {
     "name": "stdout",
     "output_type": "stream",
     "text": [
      "Accuracy: 88.33%, Loss: 79.0063049942255\n",
      "Epoch: 9/10\n"
     ]
    },
    {
     "name": "stderr",
     "output_type": "stream",
     "text": [
      "235it [00:16, 14.31it/s]\n"
     ]
    },
    {
     "name": "stdout",
     "output_type": "stream",
     "text": [
      "Accuracy: 88.93%, Loss: 74.83451199531555\n",
      "Epoch: 10/10\n"
     ]
    },
    {
     "name": "stderr",
     "output_type": "stream",
     "text": [
      "235it [00:16, 14.31it/s]\n"
     ]
    },
    {
     "name": "stdout",
     "output_type": "stream",
     "text": [
      "Accuracy: 89.50%, Loss: 71.11046040058136\n",
      "Batch Size: 512\n",
      "Epoch: 1/10\n"
     ]
    },
    {
     "name": "stderr",
     "output_type": "stream",
     "text": [
      "118it [00:16,  7.18it/s]\n"
     ]
    },
    {
     "name": "stdout",
     "output_type": "stream",
     "text": [
      "Accuracy: 46.10%, Loss: 183.33414697647095\n",
      "Epoch: 2/10\n"
     ]
    },
    {
     "name": "stderr",
     "output_type": "stream",
     "text": [
      "118it [00:16,  7.23it/s]\n"
     ]
    },
    {
     "name": "stdout",
     "output_type": "stream",
     "text": [
      "Accuracy: 69.80%, Loss: 108.3418561220169\n",
      "Epoch: 3/10\n"
     ]
    },
    {
     "name": "stderr",
     "output_type": "stream",
     "text": [
      "118it [00:16,  7.28it/s]\n"
     ]
    },
    {
     "name": "stdout",
     "output_type": "stream",
     "text": [
      "Accuracy: 76.01%, Loss: 83.87119376659393\n",
      "Epoch: 4/10\n"
     ]
    },
    {
     "name": "stderr",
     "output_type": "stream",
     "text": [
      "118it [00:16,  7.28it/s]\n"
     ]
    },
    {
     "name": "stdout",
     "output_type": "stream",
     "text": [
      "Accuracy: 78.81%, Loss: 72.3946802020073\n",
      "Epoch: 5/10\n"
     ]
    },
    {
     "name": "stderr",
     "output_type": "stream",
     "text": [
      "118it [00:16,  7.28it/s]\n"
     ]
    },
    {
     "name": "stdout",
     "output_type": "stream",
     "text": [
      "Accuracy: 80.35%, Loss: 65.5068137049675\n",
      "Epoch: 6/10\n"
     ]
    },
    {
     "name": "stderr",
     "output_type": "stream",
     "text": [
      "118it [00:16,  7.28it/s]\n"
     ]
    },
    {
     "name": "stdout",
     "output_type": "stream",
     "text": [
      "Accuracy: 82.45%, Loss: 59.48237094283104\n",
      "Epoch: 7/10\n"
     ]
    },
    {
     "name": "stderr",
     "output_type": "stream",
     "text": [
      "118it [00:16,  7.24it/s]\n"
     ]
    },
    {
     "name": "stdout",
     "output_type": "stream",
     "text": [
      "Accuracy: 83.50%, Loss: 55.56421813368797\n",
      "Epoch: 8/10\n"
     ]
    },
    {
     "name": "stderr",
     "output_type": "stream",
     "text": [
      "118it [00:16,  7.28it/s]\n"
     ]
    },
    {
     "name": "stdout",
     "output_type": "stream",
     "text": [
      "Accuracy: 84.73%, Loss: 51.6252661049366\n",
      "Epoch: 9/10\n"
     ]
    },
    {
     "name": "stderr",
     "output_type": "stream",
     "text": [
      "118it [00:16,  7.29it/s]\n"
     ]
    },
    {
     "name": "stdout",
     "output_type": "stream",
     "text": [
      "Accuracy: 85.70%, Loss: 48.55219063162804\n",
      "Epoch: 10/10\n"
     ]
    },
    {
     "name": "stderr",
     "output_type": "stream",
     "text": [
      "118it [00:16,  7.29it/s]\n"
     ]
    },
    {
     "name": "stdout",
     "output_type": "stream",
     "text": [
      "Accuracy: 86.41%, Loss: 46.31296482682228\n",
      "Batch Size: 1024\n",
      "Epoch: 1/10\n"
     ]
    },
    {
     "name": "stderr",
     "output_type": "stream",
     "text": [
      "59it [00:16,  3.63it/s]\n"
     ]
    },
    {
     "name": "stdout",
     "output_type": "stream",
     "text": [
      "Accuracy: 35.30%, Loss: 109.00406849384308\n",
      "Epoch: 2/10\n"
     ]
    },
    {
     "name": "stderr",
     "output_type": "stream",
     "text": [
      "59it [00:16,  3.66it/s]\n"
     ]
    },
    {
     "name": "stdout",
     "output_type": "stream",
     "text": [
      "Accuracy: 59.76%, Loss: 71.40752863883972\n",
      "Epoch: 3/10\n"
     ]
    },
    {
     "name": "stderr",
     "output_type": "stream",
     "text": [
      "59it [00:16,  3.66it/s]\n"
     ]
    },
    {
     "name": "stdout",
     "output_type": "stream",
     "text": [
      "Accuracy: 68.19%, Loss: 57.07530105113983\n",
      "Epoch: 4/10\n"
     ]
    },
    {
     "name": "stderr",
     "output_type": "stream",
     "text": [
      "59it [00:16,  3.64it/s]\n"
     ]
    },
    {
     "name": "stdout",
     "output_type": "stream",
     "text": [
      "Accuracy: 71.92%, Loss: 48.81178867816925\n",
      "Epoch: 5/10\n"
     ]
    },
    {
     "name": "stderr",
     "output_type": "stream",
     "text": [
      "59it [00:16,  3.65it/s]\n"
     ]
    },
    {
     "name": "stdout",
     "output_type": "stream",
     "text": [
      "Accuracy: 74.56%, Loss: 43.57684922218323\n",
      "Epoch: 6/10\n"
     ]
    },
    {
     "name": "stderr",
     "output_type": "stream",
     "text": [
      "59it [00:16,  3.65it/s]\n"
     ]
    },
    {
     "name": "stdout",
     "output_type": "stream",
     "text": [
      "Accuracy: 76.19%, Loss: 40.04596304893494\n",
      "Epoch: 7/10\n"
     ]
    },
    {
     "name": "stderr",
     "output_type": "stream",
     "text": [
      "59it [00:16,  3.64it/s]\n"
     ]
    },
    {
     "name": "stdout",
     "output_type": "stream",
     "text": [
      "Accuracy: 77.72%, Loss: 37.25038832426071\n",
      "Epoch: 8/10\n"
     ]
    },
    {
     "name": "stderr",
     "output_type": "stream",
     "text": [
      "59it [00:16,  3.66it/s]\n"
     ]
    },
    {
     "name": "stdout",
     "output_type": "stream",
     "text": [
      "Accuracy: 78.89%, Loss: 35.21766436100006\n",
      "Epoch: 9/10\n"
     ]
    },
    {
     "name": "stderr",
     "output_type": "stream",
     "text": [
      "59it [00:16,  3.66it/s]\n"
     ]
    },
    {
     "name": "stdout",
     "output_type": "stream",
     "text": [
      "Accuracy: 79.83%, Loss: 33.393525421619415\n",
      "Epoch: 10/10\n"
     ]
    },
    {
     "name": "stderr",
     "output_type": "stream",
     "text": [
      "59it [00:16,  3.65it/s]\n"
     ]
    },
    {
     "name": "stdout",
     "output_type": "stream",
     "text": [
      "Accuracy: 81.15%, Loss: 31.697769939899445\n",
      "Batch Size: 2048\n",
      "Epoch: 1/10\n"
     ]
    },
    {
     "name": "stderr",
     "output_type": "stream",
     "text": [
      "30it [00:16,  1.83it/s]\n"
     ]
    },
    {
     "name": "stdout",
     "output_type": "stream",
     "text": [
      "Accuracy: 21.86%, Loss: 65.42585098743439\n",
      "Epoch: 2/10\n"
     ]
    },
    {
     "name": "stderr",
     "output_type": "stream",
     "text": [
      "30it [00:16,  1.83it/s]\n"
     ]
    },
    {
     "name": "stdout",
     "output_type": "stream",
     "text": [
      "Accuracy: 44.55%, Loss: 48.33136284351349\n",
      "Epoch: 3/10\n"
     ]
    },
    {
     "name": "stderr",
     "output_type": "stream",
     "text": [
      "30it [00:16,  1.83it/s]\n"
     ]
    },
    {
     "name": "stdout",
     "output_type": "stream",
     "text": [
      "Accuracy: 54.93%, Loss: 39.95374846458435\n",
      "Epoch: 4/10\n"
     ]
    },
    {
     "name": "stderr",
     "output_type": "stream",
     "text": [
      "30it [00:16,  1.83it/s]\n"
     ]
    },
    {
     "name": "stdout",
     "output_type": "stream",
     "text": [
      "Accuracy: 61.85%, Loss: 34.76951336860657\n",
      "Epoch: 5/10\n"
     ]
    },
    {
     "name": "stderr",
     "output_type": "stream",
     "text": [
      "30it [00:16,  1.83it/s]\n"
     ]
    },
    {
     "name": "stdout",
     "output_type": "stream",
     "text": [
      "Accuracy: 66.48%, Loss: 30.919951736927032\n",
      "Epoch: 6/10\n"
     ]
    },
    {
     "name": "stderr",
     "output_type": "stream",
     "text": [
      "30it [00:16,  1.83it/s]\n"
     ]
    },
    {
     "name": "stdout",
     "output_type": "stream",
     "text": [
      "Accuracy: 69.32%, Loss: 28.050115764141083\n",
      "Epoch: 7/10\n"
     ]
    },
    {
     "name": "stderr",
     "output_type": "stream",
     "text": [
      "30it [00:16,  1.83it/s]\n"
     ]
    },
    {
     "name": "stdout",
     "output_type": "stream",
     "text": [
      "Accuracy: 71.67%, Loss: 25.826418459415436\n",
      "Epoch: 8/10\n"
     ]
    },
    {
     "name": "stderr",
     "output_type": "stream",
     "text": [
      "30it [00:16,  1.83it/s]\n"
     ]
    },
    {
     "name": "stdout",
     "output_type": "stream",
     "text": [
      "Accuracy: 73.31%, Loss: 24.082307994365692\n",
      "Epoch: 9/10\n"
     ]
    },
    {
     "name": "stderr",
     "output_type": "stream",
     "text": [
      "30it [00:16,  1.83it/s]\n"
     ]
    },
    {
     "name": "stdout",
     "output_type": "stream",
     "text": [
      "Accuracy: 74.85%, Loss: 22.474709689617157\n",
      "Epoch: 10/10\n"
     ]
    },
    {
     "name": "stderr",
     "output_type": "stream",
     "text": [
      "30it [00:16,  1.83it/s]\n"
     ]
    },
    {
     "name": "stdout",
     "output_type": "stream",
     "text": [
      "Accuracy: 75.94%, Loss: 21.388391137123108\n",
      "Batch Size: 4096\n",
      "Epoch: 1/10\n"
     ]
    },
    {
     "name": "stderr",
     "output_type": "stream",
     "text": [
      "15it [00:16,  1.11s/it]\n"
     ]
    },
    {
     "name": "stdout",
     "output_type": "stream",
     "text": [
      "Accuracy: 13.75%, Loss: 35.36027455329895\n",
      "Epoch: 2/10\n"
     ]
    },
    {
     "name": "stderr",
     "output_type": "stream",
     "text": [
      "15it [00:16,  1.11s/it]\n"
     ]
    },
    {
     "name": "stdout",
     "output_type": "stream",
     "text": [
      "Accuracy: 28.02%, Loss: 30.108109831809998\n",
      "Epoch: 3/10\n"
     ]
    },
    {
     "name": "stderr",
     "output_type": "stream",
     "text": [
      "15it [00:16,  1.11s/it]\n"
     ]
    },
    {
     "name": "stdout",
     "output_type": "stream",
     "text": [
      "Accuracy: 38.38%, Loss: 25.950305819511414\n",
      "Epoch: 4/10\n"
     ]
    },
    {
     "name": "stderr",
     "output_type": "stream",
     "text": [
      "15it [00:16,  1.11s/it]\n"
     ]
    },
    {
     "name": "stdout",
     "output_type": "stream",
     "text": [
      "Accuracy: 44.47%, Loss: 23.106629252433777\n",
      "Epoch: 5/10\n"
     ]
    },
    {
     "name": "stderr",
     "output_type": "stream",
     "text": [
      "15it [00:16,  1.11s/it]\n"
     ]
    },
    {
     "name": "stdout",
     "output_type": "stream",
     "text": [
      "Accuracy: 49.16%, Loss: 21.147852301597595\n",
      "Epoch: 6/10\n"
     ]
    },
    {
     "name": "stderr",
     "output_type": "stream",
     "text": [
      "15it [00:16,  1.11s/it]\n"
     ]
    },
    {
     "name": "stdout",
     "output_type": "stream",
     "text": [
      "Accuracy: 53.41%, Loss: 19.711111426353455\n",
      "Epoch: 7/10\n"
     ]
    },
    {
     "name": "stderr",
     "output_type": "stream",
     "text": [
      "15it [00:16,  1.11s/it]\n"
     ]
    },
    {
     "name": "stdout",
     "output_type": "stream",
     "text": [
      "Accuracy: 57.34%, Loss: 18.440840363502502\n",
      "Epoch: 8/10\n"
     ]
    },
    {
     "name": "stderr",
     "output_type": "stream",
     "text": [
      "15it [00:16,  1.11s/it]\n"
     ]
    },
    {
     "name": "stdout",
     "output_type": "stream",
     "text": [
      "Accuracy: 60.07%, Loss: 17.39946961402893\n",
      "Epoch: 9/10\n"
     ]
    },
    {
     "name": "stderr",
     "output_type": "stream",
     "text": [
      "15it [00:16,  1.11s/it]\n"
     ]
    },
    {
     "name": "stdout",
     "output_type": "stream",
     "text": [
      "Accuracy: 62.99%, Loss: 16.48322904109955\n",
      "Epoch: 10/10\n"
     ]
    },
    {
     "name": "stderr",
     "output_type": "stream",
     "text": [
      "15it [00:16,  1.11s/it]"
     ]
    },
    {
     "name": "stdout",
     "output_type": "stream",
     "text": [
      "Accuracy: 65.04%, Loss: 15.637502193450928\n"
     ]
    },
    {
     "name": "stderr",
     "output_type": "stream",
     "text": [
      "\n"
     ]
    }
   ],
   "source": [
    "epochs = 10\n",
    "lr = lr_max\n",
    "batch_sizes = [2 ** i for i in range(6, 13)]\n",
    "batch_size_to_loss = {}\n",
    "\n",
    "for batchSize in batch_sizes:\n",
    "    print(f\"Batch Size: {batchSize}\")\n",
    "    torch.cuda.empty_cache()\n",
    "    trainloader = torch.utils.data.DataLoader(trainset, batch_size=batchSize, shuffle=True)\n",
    "    model = MiniGoogLeNet(classes=10, input_channels=1).to(device)\n",
    "    criterion = nn.CrossEntropyLoss()\n",
    "    optimizer = optim.SGD(model.parameters(), lr=lr, momentum=0.9)\n",
    "\n",
    "    avg_training_loss = 0.0\n",
    "    for epoch in range(epochs):\n",
    "        print(f\"Epoch: {epoch+1}/{epochs}\")\n",
    "        correct, loss, _ = train(trainloader, model, criterion, optimizer)\n",
    "        accuracy = correct / len(trainloader.dataset)\n",
    "        print(f\"Accuracy: {accuracy*100:.2f}%, Loss: {loss}\")\n",
    "        avg_training_loss += loss\n",
    "    avg_training_loss /=epochs\n",
    "    batch_size_to_loss[batchSize] = avg_training_loss\n",
    "    "
   ]
  },
  {
   "cell_type": "markdown",
   "metadata": {},
   "source": [
    "<span style=\"color:blue\">Plot the training loss.</span>"
   ]
  },
  {
   "cell_type": "code",
   "execution_count": 25,
   "metadata": {},
   "outputs": [
    {
     "data": {
      "image/png": "[encoded data removed]",
      "text/plain": [
       "<Figure size 432x288 with 1 Axes>"
      ]
     },
     "metadata": {
      "needs_background": "light"
     },
     "output_type": "display_data"
    }
   ],
   "source": [
    "def plot_losses_batch_version(losses):\n",
    "    plt.scatter(list(losses.keys()), list(losses.values()))\n",
    "    plt.xlabel('Batch Size')\n",
    "    plt.ylabel('Loss Value')\n",
    "    plt.title('Loss vs Batch Size')\n",
    "    plt.show()\n",
    "\n",
    "plot_losses_batch_version(batch_size_to_loss)"
   ]
  },
  {
   "cell_type": "markdown",
   "metadata": {},
   "source": [
    "<span style=\"color:blue\"> Is the generalization of your final model similar or different from than cyclical learning rate policy?</span><br /><br />\n",
    "*Answer here*"
   ]
  },
  {
   "cell_type": "markdown",
   "metadata": {},
   "source": [
    "## Problem 3\n",
    "### Question 1\n",
    "<span style=\"color:blue\"> Calculate the number of parameters in Alexnet. You will have to show calculations for each layer and\n",
    "then sum it to obtain the total number of parameters in Alexnet. When calculating you will need to\n",
    "account for all the filters (size, strides, padding) at each layer.</span>"
   ]
  },
  {
   "cell_type": "markdown",
   "metadata": {},
   "source": [
    "## Problem 3\n",
    "### Question 2\n",
    "<span style=\"color:blue\"> VGG (Simonyan et al.) has an extremely homogeneous architecture that only performs 3x3 convolutions\n",
    "with stride 1 and pad 1 and 2x2 max pooling with stride 2 (and no padding) from the beginning to\n",
    "the end. However VGGNet is very expensive to evaluate and uses a lot more memory and parameters. Calculate number of activations and parameters per layer, show your calculations. </span>"
   ]
  },
  {
   "cell_type": "markdown",
   "metadata": {},
   "source": [
    "## Problem 3\n",
    "### Question 3\n",
    "<span style=\"color:blue\">VGG architectures have smaller filters but deeper networks compared to Alexnet (3x3 compared to\n",
    "11x11 or 5x5). Show that a stack of N convolution layers each of filter size F × F has the same\n",
    "receptive field as one convolution layer with filter of size (NF − N + 1) × (NF − N + 1). Use this to\n",
    "calculate the receptive field of 3 filters of size 5x5. </span>"
   ]
  },
  {
   "cell_type": "markdown",
   "metadata": {},
   "source": [
    "## Problem 3\n",
    "### Question 4"
   ]
  }
 ],
 "metadata": {
  "kernelspec": {
   "display_name": "Python 3 (ipykernel)",
   "language": "python",
   "name": "python3"
  },
  "language_info": {
   "codemirror_mode": {
    "name": "ipython",
    "version": 3
   },
   "file_extension": ".py",
   "mimetype": "text/x-python",
   "name": "python",
   "nbconvert_exporter": "python",
   "pygments_lexer": "ipython3",
   "version": "3.9.13"
  }
 },
 "nbformat": 4,
 "nbformat_minor": 4
}
