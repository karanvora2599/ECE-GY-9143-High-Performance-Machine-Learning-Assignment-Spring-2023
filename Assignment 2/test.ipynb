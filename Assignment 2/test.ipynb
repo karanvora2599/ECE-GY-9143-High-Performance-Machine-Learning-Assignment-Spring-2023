{
 "cells": [
  {
   "cell_type": "code",
   "execution_count": 9,
   "metadata": {},
   "outputs": [
    {
     "name": "stdout",
     "output_type": "stream",
     "text": [
      "Files already downloaded and verified\n",
      "Files already downloaded and verified\n"
     ]
    }
   ],
   "source": [
    "import torch\n",
    "import torch.nn as nn\n",
    "import torch.optim as optim\n",
    "import torchvision\n",
    "import torchvision.transforms as transforms\n",
    "import argparse\n",
    "\n",
    "\n",
    "Transform = transforms.Compose([\n",
    "    transforms.RandomCrop(32, padding = 4),\n",
    "    transforms.RandomHorizontalFlip(p = 0.5),\n",
    "    transforms.ToTensor(),\n",
    "    transforms.Normalize(mean = (0.4914, 0.4822, 0.4465), std = (0.2023, 0.1994, 0.2010))\n",
    "])\n",
    "\n",
    "TrainDataset = torchvision.datasets.CIFAR10(root = './data', train = True, download = True, transform = Transform)\n",
    "TrainLoader = torch.utils.data.DataLoader(TrainDataset, batch_size = 128, shuffle = True, num_workers = 2)\n",
    "\n",
    "TestDataset = torchvision.datasets.CIFAR10(root = './data', train = False, download = True, transform = Transform)\n",
    "TestLoader = torch.utils.data.DataLoader(TestDataset, batch_size = 100, shuffle = False, num_workers = 2)\n",
    "\n",
    "# Define the ResNet-18 model\n",
    "class BasicBlock(nn.Module):\n",
    "    expansion = 1\n",
    "\n",
    "    def __init__(self, in_planes, planes, stride=1):\n",
    "        super(BasicBlock, self).__init__()\n",
    "        self.conv1 = nn.Conv2d(in_planes, planes, kernel_size = 3, stride = stride, padding = 1, bias = False)\n",
    "        self.bn1 = nn.BatchNorm2d(planes)\n",
    "        self.relu = nn.ReLU(inplace=True)\n",
    "        self.conv2 = nn.Conv2d(planes, planes, kernel_size = 3, stride = 1, padding = 1, bias = False)\n",
    "        self.bn2 = nn.BatchNorm2d(planes)\n",
    "\n",
    "        self.shortcut = nn.Sequential()\n",
    "        if stride != 1 or in_planes != self.expansion * planes:\n",
    "            self.shortcut = nn.Sequential(\n",
    "                nn.Conv2d(in_planes, self.expansion * planes, kernel_size = 1, stride = stride, bias = False),\n",
    "                nn.BatchNorm2d(self.expansion * planes)\n",
    "            )\n",
    "\n",
    "    def forward(self, x):\n",
    "        out = self.relu(self.bn1(self.conv1(x)))\n",
    "        out = self.bn2(self.conv2(out))\n",
    "        out += self.shortcut(x)\n",
    "        out = self.relu(out)\n",
    "        return out\n",
    "\n",
    "class ResNet18(nn.Module):\n",
    "    def __init__(self, num_classes=10):\n",
    "        super(ResNet18, self).__init__()\n",
    "        self.in_channels = 64\n",
    "\n",
    "        self.conv1 = nn.Conv2d(3, 64, kernel_size=3, stride=1, padding=1, bias=False)\n",
    "        self.bn1 = nn.BatchNorm2d(64)\n",
    "        self.relu = nn.ReLU(inplace=True)\n",
    "\n",
    "        self.layer1 = self.make_layer(BasicBlock, 64, 2, stride=1)\n",
    "        self.layer2 = self.make_layer(BasicBlock, 128, 2, stride=2)\n",
    "        self.layer3 = self.make_layer(BasicBlock, 256, 2, stride=2)\n",
    "        self.layer4 = self.make_layer(BasicBlock, 512, 2, stride=2)\n",
    "\n",
    "        self.avgpool = nn.AdaptiveAvgPool2d((1, 1))\n",
    "        self.fc = nn.Linear(512 * BasicBlock.expansion, num_classes)\n",
    "\n",
    "    def make_layer(self, block, out_channels, num_blocks, stride):\n",
    "        strides = [stride] + [1] * (num_blocks - 1)\n",
    "        layers = []\n",
    "        for stride in strides:\n",
    "            layers.append(block(self.in_channels, out_channels, stride))\n",
    "            self.in_channels = out_channels * block.expansion\n",
    "        return nn.Sequential(*layers)\n",
    "\n",
    "    def forward(self, x):\n",
    "        out = self.relu(self.bn1(self.conv1(x)))\n",
    "\n",
    "        out = self.layer1(out)\n",
    "        out = self.layer2(out)\n",
    "        out = self.layer3(out)\n",
    "        out = self.layer4(out)\n",
    "\n",
    "        out = self.avgpool(out)\n",
    "        out = out.view(out.size(0), -1)\n",
    "        out = self.fc(out)\n",
    "\n",
    "        return out\n",
    "\n",
    "# Define the hyperparameters\n",
    "learning_rate = 0.1\n",
    "momentum = 0.9\n",
    "weight_decay = 5e-4\n",
    "num_epochs = 10"
   ]
  },
  {
   "cell_type": "code",
   "execution_count": 14,
   "metadata": {},
   "outputs": [
    {
     "name": "stderr",
     "output_type": "stream",
     "text": [
      "usage: ipykernel_launcher.py [--data_path DATA_PATH]\n",
      "                             [--num_workers NUM_WORKERS]\n",
      "                             [--optimizer OPTIMIZER] [--use_cuda USE_CUDA]\n",
      "                             [--batch_size BATCH_SIZE]\n",
      "                             [--test_batch_size TEST_BATCH_SIZE]\n",
      "                             [--learning_rate LEARNING_RATE]\n",
      "                             [--momentum MOMENTUM]\n",
      "                             [--weight_decay WEIGHT_DECAY]\n",
      "                             [--num_epochs NUM_EPOCHS]\n",
      "                             [--KernelArg [KERNELARG ...]]\n",
      "ipykernel_launcher.py: error: unrecognized arguments: -f /home/karanvora/.local/share/jupyter/runtime/kernel-b7fcc814-b389-4ed6-b657-6ba52c8b5fe9.json\n"
     ]
    },
    {
     "ename": "SystemExit",
     "evalue": "2",
     "output_type": "error",
     "traceback": [
      "An exception has occurred, use %tb to see the full traceback.\n",
      "\u001b[0;31mSystemExit\u001b[0m\u001b[0;31m:\u001b[0m 2\n"
     ]
    }
   ],
   "source": [
    "# Define command line arguments\n",
    "parser = argparse.ArgumentParser(allow_abbrev=False, add_help=False)\n",
    "parser.add_argument('--data_path', type=str, default='./data',\n",
    "                    help='Path to the dataset directory')\n",
    "parser.add_argument('--num_workers', type=int, default=2,\n",
    "                    help='Number of data loader workers')\n",
    "parser.add_argument('--optimizer', type=str, default='sgd',\n",
    "                    help='Optimizer for training (sgd, adam, etc.)')\n",
    "parser.add_argument('--use_cuda', type=bool, default=False,\n",
    "                    help='Whether to use CUDA for training')\n",
    "parser.add_argument('--batch_size', type=int, default=128,\n",
    "                    help='Training batch size')\n",
    "parser.add_argument('--test_batch_size', type=int, default=100,\n",
    "                    help='Test batch size')\n",
    "parser.add_argument('--learning_rate', type=float, default=0.1,\n",
    "                    help='Learning rate for optimizer')\n",
    "parser.add_argument('--momentum', type=float, default=0.9,\n",
    "                    help='Momentum for optimizer')\n",
    "parser.add_argument('--weight_decay', type=float, default=5e-4,\n",
    "                    help='Weight decay for optimizer')\n",
    "parser.add_argument('--num_epochs', type=int, default=5,\n",
    "                    help='Number of epochs to train for')\n",
    "parser.add_argument('--KernelArg', nargs='*', help='Kernel arguments')\n",
    "args, unknown = parser.parse_known_args()\n",
    "\n",
    "# Parse kernel arguments\n",
    "if args.KernelArg is not None:\n",
    "    unknown += args.KernelArg\n",
    "args = parser.parse_args(unknown)\n",
    "\n",
    "# Set device\n",
    "device = torch.device('cuda' if args.use_cuda and torch.cuda.is_available() else 'cpu')"
   ]
  },
  {
   "cell_type": "code",
   "execution_count": 3,
   "metadata": {},
   "outputs": [
    {
     "name": "stdout",
     "output_type": "stream",
     "text": [
      "True\n"
     ]
    }
   ],
   "source": [
    "string = 'TRue'\n",
    "\n",
    "print(bool(string))"
   ]
  },
  {
   "cell_type": "code",
   "execution_count": 2,
   "metadata": {},
   "outputs": [
    {
     "name": "stdout",
     "output_type": "stream",
     "text": [
      "Hello\n"
     ]
    }
   ],
   "source": [
    "command = 'Hello'\n",
    "\n",
    "match command.lower():\n",
    "    case 'hello':\n",
    "        print('Hello')\n",
    "    case 'hi':\n",
    "        print('Hi')"
   ]
  },
  {
   "cell_type": "code",
   "execution_count": null,
   "metadata": {},
   "outputs": [],
   "source": []
  }
 ],
 "metadata": {
  "kernelspec": {
   "display_name": "Python 3",
   "language": "python",
   "name": "python3"
  },
  "language_info": {
   "codemirror_mode": {
    "name": "ipython",
    "version": 3
   },
   "file_extension": ".py",
   "mimetype": "text/x-python",
   "name": "python",
   "nbconvert_exporter": "python",
   "pygments_lexer": "ipython3",
   "version": "3.10.7"
  },
  "orig_nbformat": 4,
  "vscode": {
   "interpreter": {
    "hash": "916dbcbb3f70747c44a77c7bcd40155683ae19c65e1c03b4aa3499c5328201f1"
   }
  }
 },
 "nbformat": 4,
 "nbformat_minor": 2
}
