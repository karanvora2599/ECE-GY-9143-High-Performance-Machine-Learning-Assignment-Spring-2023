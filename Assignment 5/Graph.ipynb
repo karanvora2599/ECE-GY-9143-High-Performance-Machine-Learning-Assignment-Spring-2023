{
 "cells": [
  {
   "cell_type": "markdown",
   "metadata": {},
   "source": [
    "Scenario 1 with K = 1 million elements: 6.1191e-05 seconds\n",
    "Scenario 2 with K = 1 million elements: 2.3778e-05 seconds\n",
    "Scenario 3 with K = 1 million elements: 0.000102256 seconds\n",
    "Scenario 1 with K = 5 million elements: 7.2964e-05 seconds\n",
    "Scenario 2 with K = 5 million elements: 2.8191e-05 seconds\n",
    "Scenario 3 with K = 5 million elements: 0.00047496 seconds\n",
    "Scenario 1 with K = 10 million elements: 5.9682e-05 seconds\n",
    "Scenario 2 with K = 10 million elements: 3.7375e-05 seconds\n",
    "Scenario 3 with K = 10 million elements: 0.000930815 seconds\n",
    "Scenario 1 with K = 50 million elements: 4.7892e-05 seconds\n",
    "Scenario 2 with K = 50 million elements: 3.192e-05 seconds\n",
    "Scenario 3 with K = 50 million elements: 0.00457944 seconds\n",
    "Scenario 1 with K = 100 million elements: 9.1367e-05 seconds\n",
    "Scenario 2 with K = 100 million elements: 3.6411e-05 seconds\n",
    "Scenario 3 with K = 100 million elements: 0.00914612 seconds"
   ]
  },
  {
   "cell_type": "code",
   "execution_count": null,
   "metadata": {},
   "outputs": [
    {
     "ename": "",
     "evalue": "",
     "output_type": "error",
     "traceback": [
      "\u001b[1;31mRunning cells with '/bin/python3' requires the ipykernel package.\n",
      "\u001b[1;31mRun the following command to install 'ipykernel' into the Python environment. \n",
      "\u001b[1;31mCommand: '/bin/python3 -m pip install ipykernel -U --user --force-reinstall'"
     ]
    }
   ],
   "source": [
    "import matplotlib.pyplot as plt\n",
    "\n",
    "data = {\n",
    "    \"Scenario 1\": {\n",
    "        1_000_000: 6.1191e-05,\n",
    "        5_000_000: 7.2964e-05,\n",
    "        10_000_000: 5.9682e-05,\n",
    "        50_000_000: 4.7892e-05,\n",
    "        100_000_000: 9.1367e-05,\n",
    "    },\n",
    "    \"Scenario 2\": {\n",
    "        1_000_000: 2.3778e-05,\n",
    "        5_000_000: 2.8191e-05,\n",
    "        10_000_000: 3.7375e-05,\n",
    "        50_000_000: 3.192e-05,\n",
    "        100_000_000: 3.6411e-05,\n",
    "    },\n",
    "    \"Scenario 3\": {\n",
    "        1_000_000: 0.000102256,\n",
    "        5_000_000: 0.00047496,\n",
    "        10_000_000: 0.000930815,\n",
    "        50_000_000: 0.00457944,\n",
    "        100_000_000: 0.00914612,\n",
    "    },\n",
    "}\n",
    "\n",
    "fig, ax = plt.subplots()\n",
    "\n",
    "for scenario, values in data.items():\n",
    "    x = list(values.keys())\n",
    "    y = list(values.values())\n",
    "    ax.plot(x, y, label=scenario, marker=\"o\")\n",
    "\n",
    "ax.set_xlabel(\"K Elements\")\n",
    "ax.set_ylabel(\"Execution Time (seconds)\")\n",
    "ax.set_title(\"Execution Time vs K Elements for Different Scenarios\")\n",
    "ax.legend()\n",
    "\n",
    "plt.show()"
   ]
  },
  {
   "cell_type": "code",
   "execution_count": null,
   "metadata": {},
   "outputs": [
    {
     "ename": "",
     "evalue": "",
     "output_type": "error",
     "traceback": [
      "\u001b[1;31mRunning cells with '/bin/python3' requires the ipykernel package.\n",
      "\u001b[1;31mRun the following command to install 'ipykernel' into the Python environment. \n",
      "\u001b[1;31mCommand: '/bin/python3 -m pip install ipykernel -U --user --force-reinstall'"
     ]
    }
   ],
   "source": [
    "!/bin/python3 -m pip install ipykernel -U --user --force-reinstall"
   ]
  },
  {
   "cell_type": "code",
   "execution_count": null,
   "metadata": {},
   "outputs": [],
   "source": []
  }
 ],
 "metadata": {
  "kernelspec": {
   "display_name": "Python 3",
   "language": "python",
   "name": "python3"
  },
  "language_info": {
   "codemirror_mode": {
    "name": "ipython",
    "version": 3
   },
   "file_extension": ".py",
   "mimetype": "text/x-python",
   "name": "python",
   "nbconvert_exporter": "python",
   "pygments_lexer": "ipython3",
   "version": "3.11.2"
  },
  "orig_nbformat": 4
 },
 "nbformat": 4,
 "nbformat_minor": 2
}
