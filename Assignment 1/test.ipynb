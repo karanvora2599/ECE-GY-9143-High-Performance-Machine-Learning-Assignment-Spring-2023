{
 "cells": [
  {
   "cell_type": "code",
   "execution_count": 10,
   "metadata": {},
   "outputs": [
    {
     "ename": "ImportError",
     "evalue": "attempted relative import with no known parent package",
     "output_type": "error",
     "traceback": [
      "\u001b[0;31m---------------------------------------------------------------------------\u001b[0m",
      "\u001b[0;31mImportError\u001b[0m                               Traceback (most recent call last)",
      "Cell \u001b[0;32mIn [10], line 7\u001b[0m\n\u001b[1;32m      4\u001b[0m \u001b[39mimport\u001b[39;00m \u001b[39mmatplotlib\u001b[39;00m\u001b[39m.\u001b[39;00m\u001b[39mpyplot\u001b[39;00m \u001b[39mas\u001b[39;00m \u001b[39mplt\u001b[39;00m\n\u001b[1;32m      5\u001b[0m \u001b[39mimport\u001b[39;00m \u001b[39mruamel\u001b[39;00m\u001b[39m.\u001b[39;00m\u001b[39myaml\u001b[39;00m \u001b[39mas\u001b[39;00m \u001b[39myaml\u001b[39;00m\n\u001b[0;32m----> 7\u001b[0m \u001b[39mfrom\u001b[39;00m \u001b[39m.\u001b[39;00m\u001b[39mprefixedunit\u001b[39;00m \u001b[39mimport\u001b[39;00m PrefixedUnit\n\u001b[1;32m     10\u001b[0m \u001b[39mdef\u001b[39;00m \u001b[39mfrange\u001b[39m(start, stop, step\u001b[39m=\u001b[39m\u001b[39m1.0\u001b[39m):\n\u001b[1;32m     11\u001b[0m     f \u001b[39m=\u001b[39m start\n",
      "\u001b[0;31mImportError\u001b[0m: attempted relative import with no known parent package"
     ]
    }
   ],
   "source": [
    "#!/usr/bin/env python3\n",
    "from pprint import pprint\n",
    "\n",
    "import matplotlib.pyplot as plt\n",
    "import ruamel.yaml as yaml\n",
    "\n",
    "from .prefixedunit import PrefixedUnit\n",
    "\n",
    "\n",
    "def frange(start, stop, step=1.0):\n",
    "    f = start\n",
    "    while f < stop:\n",
    "        f += step\n",
    "        yield f\n",
    "\n",
    "\n",
    "# Input (usually from ECM model)\n",
    "result = {\n",
    "    'min performance': 11175000000.0, 'bottleneck level': 2,\n",
    "    'mem bottlenecks': [{'performance': PrefixedUnit(24474545454.545452, '', 'FLOP/s'),\n",
    "                         'bandwidth': PrefixedUnit(89.74, u'G', u'B/s'),\n",
    "                         'arithmetic intensity': 0.2727272727272727,\n",
    "                         'bw kernel': 'triad', 'level': 'L1-L2'},\n",
    "                        {'performance': PrefixedUnit(12957000000.0, '',\n",
    "                         'FLOP/s'), 'bandwidth': PrefixedUnit(43.19, u'G', u'B/s'),\n",
    "                         'arithmetic intensity': 0.3, 'bw kernel': 'triad', 'level': 'L2-L3'},\n",
    "                        {'performance': PrefixedUnit(11175000000.0, '', 'FLOP/s'),\n",
    "                         'bandwidth': PrefixedUnit(22.35, u'G', u'B/s'),\n",
    "                         'arithmetic intensity': 0.5, 'bw kernel': 'triad', 'level': 'L3-MEM'}]}\n",
    "machine = yaml.load(open('machine-files/emmy.yaml'))\n",
    "max_flops = machine['clock']*sum(machine['FLOPs per cycle']['DP'].values())\n",
    "max_flops.unit = \"FLOP/s\"\n",
    "\n",
    "pprint(result)\n",
    "pprint(max_flops)\n",
    "\n",
    "# Plot configuration\n",
    "height = 0.8\n",
    "\n",
    "fig = plt.figure(frameon=False)\n",
    "ax = fig.add_subplot(1, 1, 1)\n",
    "\n",
    "yticks_labels = []\n",
    "yticks = []\n",
    "xticks_labels = []\n",
    "xticks = [2.**i for i in range(-4, 4)]\n",
    "\n",
    "ax.set_xlabel('arithmetic intensity [FLOP/byte]')\n",
    "ax.set_ylabel('performance [FLOP/s]')\n",
    "\n",
    "# Upper bound\n",
    "x = list(frange(min(xticks), max(xticks), 0.01))\n",
    "bw = float(result['mem bottlenecks'][result['bottleneck level']]['bandwidth'])\n",
    "ax.plot(x, [min(bw*x, float(max_flops)) for x in x])\n",
    "\n",
    "# Code location\n",
    "perf = min(\n",
    "    float(max_flops),\n",
    "    float(result['mem bottlenecks'][result['bottleneck level']]['performance']))\n",
    "arith_intensity = result['mem bottlenecks'][result['bottleneck level']]['arithmetic intensity']\n",
    "ax.plot(arith_intensity, perf, 'r+', markersize=12, markeredgewidth=4)\n",
    "\n",
    "# ax.tick_params(axis='y', which='both', left='off', right='off')\n",
    "# ax.tick_params(axis='x', which='both', top='off')\n",
    "ax.set_xscale('log', basex=2)\n",
    "ax.set_yscale('log')\n",
    "ax.set_xlim(min(xticks), max(xticks))\n",
    "# ax.set_yticks([perf, float(max_flops)])\n",
    "ax.set_xticks(xticks+[arith_intensity])\n",
    "ax.grid(axis='x', alpha=0.7, linestyle='--')\n",
    "# fig.savefig('out.pdf')\n",
    "plt.show()"
   ]
  },
  {
   "cell_type": "code",
   "execution_count": 6,
   "metadata": {},
   "outputs": [
    {
     "name": "stdout",
     "output_type": "stream",
     "text": [
      "Defaulting to user installation because normal site-packages is not writeable\n",
      "Collecting ruamel.yaml\n",
      "  Using cached ruamel.yaml-0.17.21-py3-none-any.whl (109 kB)\n",
      "Collecting ruamel.yaml.clib>=0.2.6\n",
      "  Downloading ruamel.yaml.clib-0.2.7-cp310-cp310-manylinux_2_17_x86_64.manylinux2014_x86_64.manylinux_2_24_x86_64.whl (485 kB)\n",
      "\u001b[2K     \u001b[90m━━━━━━━━━━━━━━━━━━━━━━━━━━━━━━━━━━━━━━━\u001b[0m \u001b[32m485.6/485.6 kB\u001b[0m \u001b[31m6.1 MB/s\u001b[0m eta \u001b[36m0:00:00\u001b[0m00:01\u001b[0m00:01\u001b[0m\n",
      "\u001b[?25hInstalling collected packages: ruamel.yaml.clib, ruamel.yaml\n",
      "Successfully installed ruamel.yaml-0.17.21 ruamel.yaml.clib-0.2.7\n"
     ]
    }
   ],
   "source": [
    "!pip install --upgrade ruamel.yaml --ignore-installed ruamel.yaml"
   ]
  },
  {
   "cell_type": "code",
   "execution_count": null,
   "metadata": {},
   "outputs": [],
   "source": []
  }
 ],
 "metadata": {
  "kernelspec": {
   "display_name": "Python 3",
   "language": "python",
   "name": "python3"
  },
  "language_info": {
   "codemirror_mode": {
    "name": "ipython",
    "version": 3
   },
   "file_extension": ".py",
   "mimetype": "text/x-python",
   "name": "python",
   "nbconvert_exporter": "python",
   "pygments_lexer": "ipython3",
   "version": "3.10.7"
  },
  "orig_nbformat": 4,
  "vscode": {
   "interpreter": {
    "hash": "916dbcbb3f70747c44a77c7bcd40155683ae19c65e1c03b4aa3499c5328201f1"
   }
  }
 },
 "nbformat": 4,
 "nbformat_minor": 2
}
